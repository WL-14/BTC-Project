{
  "cells": [
    {
      "cell_type": "code",
      "execution_count": null,
      "metadata": {
        "colab": {
          "background_save": true
        },
        "id": "0u_lzZSkXK0z"
      },
      "outputs": [],
      "source": [
        "import pandas as pd\n",
        "import numpy as np\n",
        "import matplotlib.pyplot as plt\n",
        "\n",
        "%matplotlib inline"
      ]
    },
    {
      "cell_type": "code",
      "execution_count": null,
      "metadata": {
        "colab": {
          "base_uri": "https://localhost:8080/",
          "height": 311
        },
        "id": "sYq9q0OiYy4F",
        "outputId": "bc701a9d-02a0-4019-9e1f-855b58611f2d"
      },
      "outputs": [
        {
          "ename": "FileNotFoundError",
          "evalue": "ignored",
          "output_type": "error",
          "traceback": [
            "\u001b[0;31m---------------------------------------------------------------------------\u001b[0m",
            "\u001b[0;31mFileNotFoundError\u001b[0m                         Traceback (most recent call last)",
            "\u001b[0;32m<ipython-input-34-12e42a729099>\u001b[0m in \u001b[0;36m<module>\u001b[0;34m()\u001b[0m\n\u001b[0;32m----> 1\u001b[0;31m \u001b[0mbtc_data\u001b[0m \u001b[0;34m=\u001b[0m \u001b[0mpd\u001b[0m\u001b[0;34m.\u001b[0m\u001b[0mread_csv\u001b[0m\u001b[0;34m(\u001b[0m\u001b[0;34mr\"C:\\Users\\PHAM\\Documents\\btc.csv\"\u001b[0m\u001b[0;34m,\u001b[0m \u001b[0mparse_dates\u001b[0m\u001b[0;34m=\u001b[0m\u001b[0;32mTrue\u001b[0m\u001b[0;34m)\u001b[0m\u001b[0;34m\u001b[0m\u001b[0;34m\u001b[0m\u001b[0m\n\u001b[0m",
            "\u001b[0;32m/usr/local/lib/python3.7/dist-packages/pandas/util/_decorators.py\u001b[0m in \u001b[0;36mwrapper\u001b[0;34m(*args, **kwargs)\u001b[0m\n\u001b[1;32m    309\u001b[0m                     \u001b[0mstacklevel\u001b[0m\u001b[0;34m=\u001b[0m\u001b[0mstacklevel\u001b[0m\u001b[0;34m,\u001b[0m\u001b[0;34m\u001b[0m\u001b[0;34m\u001b[0m\u001b[0m\n\u001b[1;32m    310\u001b[0m                 )\n\u001b[0;32m--> 311\u001b[0;31m             \u001b[0;32mreturn\u001b[0m \u001b[0mfunc\u001b[0m\u001b[0;34m(\u001b[0m\u001b[0;34m*\u001b[0m\u001b[0margs\u001b[0m\u001b[0;34m,\u001b[0m \u001b[0;34m**\u001b[0m\u001b[0mkwargs\u001b[0m\u001b[0;34m)\u001b[0m\u001b[0;34m\u001b[0m\u001b[0;34m\u001b[0m\u001b[0m\n\u001b[0m\u001b[1;32m    312\u001b[0m \u001b[0;34m\u001b[0m\u001b[0m\n\u001b[1;32m    313\u001b[0m         \u001b[0;32mreturn\u001b[0m \u001b[0mwrapper\u001b[0m\u001b[0;34m\u001b[0m\u001b[0;34m\u001b[0m\u001b[0m\n",
            "\u001b[0;32m/usr/local/lib/python3.7/dist-packages/pandas/io/parsers/readers.py\u001b[0m in \u001b[0;36mread_csv\u001b[0;34m(filepath_or_buffer, sep, delimiter, header, names, index_col, usecols, squeeze, prefix, mangle_dupe_cols, dtype, engine, converters, true_values, false_values, skipinitialspace, skiprows, skipfooter, nrows, na_values, keep_default_na, na_filter, verbose, skip_blank_lines, parse_dates, infer_datetime_format, keep_date_col, date_parser, dayfirst, cache_dates, iterator, chunksize, compression, thousands, decimal, lineterminator, quotechar, quoting, doublequote, escapechar, comment, encoding, encoding_errors, dialect, error_bad_lines, warn_bad_lines, on_bad_lines, delim_whitespace, low_memory, memory_map, float_precision, storage_options)\u001b[0m\n\u001b[1;32m    584\u001b[0m     \u001b[0mkwds\u001b[0m\u001b[0;34m.\u001b[0m\u001b[0mupdate\u001b[0m\u001b[0;34m(\u001b[0m\u001b[0mkwds_defaults\u001b[0m\u001b[0;34m)\u001b[0m\u001b[0;34m\u001b[0m\u001b[0;34m\u001b[0m\u001b[0m\n\u001b[1;32m    585\u001b[0m \u001b[0;34m\u001b[0m\u001b[0m\n\u001b[0;32m--> 586\u001b[0;31m     \u001b[0;32mreturn\u001b[0m \u001b[0m_read\u001b[0m\u001b[0;34m(\u001b[0m\u001b[0mfilepath_or_buffer\u001b[0m\u001b[0;34m,\u001b[0m \u001b[0mkwds\u001b[0m\u001b[0;34m)\u001b[0m\u001b[0;34m\u001b[0m\u001b[0;34m\u001b[0m\u001b[0m\n\u001b[0m\u001b[1;32m    587\u001b[0m \u001b[0;34m\u001b[0m\u001b[0m\n\u001b[1;32m    588\u001b[0m \u001b[0;34m\u001b[0m\u001b[0m\n",
            "\u001b[0;32m/usr/local/lib/python3.7/dist-packages/pandas/io/parsers/readers.py\u001b[0m in \u001b[0;36m_read\u001b[0;34m(filepath_or_buffer, kwds)\u001b[0m\n\u001b[1;32m    480\u001b[0m \u001b[0;34m\u001b[0m\u001b[0m\n\u001b[1;32m    481\u001b[0m     \u001b[0;31m# Create the parser.\u001b[0m\u001b[0;34m\u001b[0m\u001b[0;34m\u001b[0m\u001b[0;34m\u001b[0m\u001b[0m\n\u001b[0;32m--> 482\u001b[0;31m     \u001b[0mparser\u001b[0m \u001b[0;34m=\u001b[0m \u001b[0mTextFileReader\u001b[0m\u001b[0;34m(\u001b[0m\u001b[0mfilepath_or_buffer\u001b[0m\u001b[0;34m,\u001b[0m \u001b[0;34m**\u001b[0m\u001b[0mkwds\u001b[0m\u001b[0;34m)\u001b[0m\u001b[0;34m\u001b[0m\u001b[0;34m\u001b[0m\u001b[0m\n\u001b[0m\u001b[1;32m    483\u001b[0m \u001b[0;34m\u001b[0m\u001b[0m\n\u001b[1;32m    484\u001b[0m     \u001b[0;32mif\u001b[0m \u001b[0mchunksize\u001b[0m \u001b[0;32mor\u001b[0m \u001b[0miterator\u001b[0m\u001b[0;34m:\u001b[0m\u001b[0;34m\u001b[0m\u001b[0;34m\u001b[0m\u001b[0m\n",
            "\u001b[0;32m/usr/local/lib/python3.7/dist-packages/pandas/io/parsers/readers.py\u001b[0m in \u001b[0;36m__init__\u001b[0;34m(self, f, engine, **kwds)\u001b[0m\n\u001b[1;32m    809\u001b[0m             \u001b[0mself\u001b[0m\u001b[0;34m.\u001b[0m\u001b[0moptions\u001b[0m\u001b[0;34m[\u001b[0m\u001b[0;34m\"has_index_names\"\u001b[0m\u001b[0;34m]\u001b[0m \u001b[0;34m=\u001b[0m \u001b[0mkwds\u001b[0m\u001b[0;34m[\u001b[0m\u001b[0;34m\"has_index_names\"\u001b[0m\u001b[0;34m]\u001b[0m\u001b[0;34m\u001b[0m\u001b[0;34m\u001b[0m\u001b[0m\n\u001b[1;32m    810\u001b[0m \u001b[0;34m\u001b[0m\u001b[0m\n\u001b[0;32m--> 811\u001b[0;31m         \u001b[0mself\u001b[0m\u001b[0;34m.\u001b[0m\u001b[0m_engine\u001b[0m \u001b[0;34m=\u001b[0m \u001b[0mself\u001b[0m\u001b[0;34m.\u001b[0m\u001b[0m_make_engine\u001b[0m\u001b[0;34m(\u001b[0m\u001b[0mself\u001b[0m\u001b[0;34m.\u001b[0m\u001b[0mengine\u001b[0m\u001b[0;34m)\u001b[0m\u001b[0;34m\u001b[0m\u001b[0;34m\u001b[0m\u001b[0m\n\u001b[0m\u001b[1;32m    812\u001b[0m \u001b[0;34m\u001b[0m\u001b[0m\n\u001b[1;32m    813\u001b[0m     \u001b[0;32mdef\u001b[0m \u001b[0mclose\u001b[0m\u001b[0;34m(\u001b[0m\u001b[0mself\u001b[0m\u001b[0;34m)\u001b[0m\u001b[0;34m:\u001b[0m\u001b[0;34m\u001b[0m\u001b[0;34m\u001b[0m\u001b[0m\n",
            "\u001b[0;32m/usr/local/lib/python3.7/dist-packages/pandas/io/parsers/readers.py\u001b[0m in \u001b[0;36m_make_engine\u001b[0;34m(self, engine)\u001b[0m\n\u001b[1;32m   1038\u001b[0m             )\n\u001b[1;32m   1039\u001b[0m         \u001b[0;31m# error: Too many arguments for \"ParserBase\"\u001b[0m\u001b[0;34m\u001b[0m\u001b[0;34m\u001b[0m\u001b[0;34m\u001b[0m\u001b[0m\n\u001b[0;32m-> 1040\u001b[0;31m         \u001b[0;32mreturn\u001b[0m \u001b[0mmapping\u001b[0m\u001b[0;34m[\u001b[0m\u001b[0mengine\u001b[0m\u001b[0;34m]\u001b[0m\u001b[0;34m(\u001b[0m\u001b[0mself\u001b[0m\u001b[0;34m.\u001b[0m\u001b[0mf\u001b[0m\u001b[0;34m,\u001b[0m \u001b[0;34m**\u001b[0m\u001b[0mself\u001b[0m\u001b[0;34m.\u001b[0m\u001b[0moptions\u001b[0m\u001b[0;34m)\u001b[0m  \u001b[0;31m# type: ignore[call-arg]\u001b[0m\u001b[0;34m\u001b[0m\u001b[0;34m\u001b[0m\u001b[0m\n\u001b[0m\u001b[1;32m   1041\u001b[0m \u001b[0;34m\u001b[0m\u001b[0m\n\u001b[1;32m   1042\u001b[0m     \u001b[0;32mdef\u001b[0m \u001b[0m_failover_to_python\u001b[0m\u001b[0;34m(\u001b[0m\u001b[0mself\u001b[0m\u001b[0;34m)\u001b[0m\u001b[0;34m:\u001b[0m\u001b[0;34m\u001b[0m\u001b[0;34m\u001b[0m\u001b[0m\n",
            "\u001b[0;32m/usr/local/lib/python3.7/dist-packages/pandas/io/parsers/c_parser_wrapper.py\u001b[0m in \u001b[0;36m__init__\u001b[0;34m(self, src, **kwds)\u001b[0m\n\u001b[1;32m     49\u001b[0m \u001b[0;34m\u001b[0m\u001b[0m\n\u001b[1;32m     50\u001b[0m         \u001b[0;31m# open handles\u001b[0m\u001b[0;34m\u001b[0m\u001b[0;34m\u001b[0m\u001b[0;34m\u001b[0m\u001b[0m\n\u001b[0;32m---> 51\u001b[0;31m         \u001b[0mself\u001b[0m\u001b[0;34m.\u001b[0m\u001b[0m_open_handles\u001b[0m\u001b[0;34m(\u001b[0m\u001b[0msrc\u001b[0m\u001b[0;34m,\u001b[0m \u001b[0mkwds\u001b[0m\u001b[0;34m)\u001b[0m\u001b[0;34m\u001b[0m\u001b[0;34m\u001b[0m\u001b[0m\n\u001b[0m\u001b[1;32m     52\u001b[0m         \u001b[0;32massert\u001b[0m \u001b[0mself\u001b[0m\u001b[0;34m.\u001b[0m\u001b[0mhandles\u001b[0m \u001b[0;32mis\u001b[0m \u001b[0;32mnot\u001b[0m \u001b[0;32mNone\u001b[0m\u001b[0;34m\u001b[0m\u001b[0;34m\u001b[0m\u001b[0m\n\u001b[1;32m     53\u001b[0m \u001b[0;34m\u001b[0m\u001b[0m\n",
            "\u001b[0;32m/usr/local/lib/python3.7/dist-packages/pandas/io/parsers/base_parser.py\u001b[0m in \u001b[0;36m_open_handles\u001b[0;34m(self, src, kwds)\u001b[0m\n\u001b[1;32m    227\u001b[0m             \u001b[0mmemory_map\u001b[0m\u001b[0;34m=\u001b[0m\u001b[0mkwds\u001b[0m\u001b[0;34m.\u001b[0m\u001b[0mget\u001b[0m\u001b[0;34m(\u001b[0m\u001b[0;34m\"memory_map\"\u001b[0m\u001b[0;34m,\u001b[0m \u001b[0;32mFalse\u001b[0m\u001b[0;34m)\u001b[0m\u001b[0;34m,\u001b[0m\u001b[0;34m\u001b[0m\u001b[0;34m\u001b[0m\u001b[0m\n\u001b[1;32m    228\u001b[0m             \u001b[0mstorage_options\u001b[0m\u001b[0;34m=\u001b[0m\u001b[0mkwds\u001b[0m\u001b[0;34m.\u001b[0m\u001b[0mget\u001b[0m\u001b[0;34m(\u001b[0m\u001b[0;34m\"storage_options\"\u001b[0m\u001b[0;34m,\u001b[0m \u001b[0;32mNone\u001b[0m\u001b[0;34m)\u001b[0m\u001b[0;34m,\u001b[0m\u001b[0;34m\u001b[0m\u001b[0;34m\u001b[0m\u001b[0m\n\u001b[0;32m--> 229\u001b[0;31m             \u001b[0merrors\u001b[0m\u001b[0;34m=\u001b[0m\u001b[0mkwds\u001b[0m\u001b[0;34m.\u001b[0m\u001b[0mget\u001b[0m\u001b[0;34m(\u001b[0m\u001b[0;34m\"encoding_errors\"\u001b[0m\u001b[0;34m,\u001b[0m \u001b[0;34m\"strict\"\u001b[0m\u001b[0;34m)\u001b[0m\u001b[0;34m,\u001b[0m\u001b[0;34m\u001b[0m\u001b[0;34m\u001b[0m\u001b[0m\n\u001b[0m\u001b[1;32m    230\u001b[0m         )\n\u001b[1;32m    231\u001b[0m \u001b[0;34m\u001b[0m\u001b[0m\n",
            "\u001b[0;32m/usr/local/lib/python3.7/dist-packages/pandas/io/common.py\u001b[0m in \u001b[0;36mget_handle\u001b[0;34m(path_or_buf, mode, encoding, compression, memory_map, is_text, errors, storage_options)\u001b[0m\n\u001b[1;32m    705\u001b[0m                 \u001b[0mencoding\u001b[0m\u001b[0;34m=\u001b[0m\u001b[0mioargs\u001b[0m\u001b[0;34m.\u001b[0m\u001b[0mencoding\u001b[0m\u001b[0;34m,\u001b[0m\u001b[0;34m\u001b[0m\u001b[0;34m\u001b[0m\u001b[0m\n\u001b[1;32m    706\u001b[0m                 \u001b[0merrors\u001b[0m\u001b[0;34m=\u001b[0m\u001b[0merrors\u001b[0m\u001b[0;34m,\u001b[0m\u001b[0;34m\u001b[0m\u001b[0;34m\u001b[0m\u001b[0m\n\u001b[0;32m--> 707\u001b[0;31m                 \u001b[0mnewline\u001b[0m\u001b[0;34m=\u001b[0m\u001b[0;34m\"\"\u001b[0m\u001b[0;34m,\u001b[0m\u001b[0;34m\u001b[0m\u001b[0;34m\u001b[0m\u001b[0m\n\u001b[0m\u001b[1;32m    708\u001b[0m             )\n\u001b[1;32m    709\u001b[0m         \u001b[0;32melse\u001b[0m\u001b[0;34m:\u001b[0m\u001b[0;34m\u001b[0m\u001b[0;34m\u001b[0m\u001b[0m\n",
            "\u001b[0;31mFileNotFoundError\u001b[0m: [Errno 2] No such file or directory: 'C:\\\\Users\\\\PHAM\\\\Documents\\\\btc.csv'"
          ]
        }
      ],
      "source": [
        "btc_data = pd.read_csv(r\"C:\\Users\\PHAM\\Documents\\btc.csv\", parse_dates=True)"
      ]
    },
    {
      "cell_type": "markdown",
      "source": [
        "# SplyAdrBal1in1K to SplyAdrBal1in10B"
      ],
      "metadata": {
        "id": "f3a2T0DEuvcw"
      }
    },
    {
      "cell_type": "markdown",
      "source": [
        "La somme de toutes les unités natives détenues dans des adresses dont le solde était d'au moins un sur X de l'offre actuelle d'unités natives à la fin de la journée. Seules les unités natives sont prises en compte (par exemple, une adresse avec moins de X ETH mais avec plus de X dans les jetons ERC-20 ne serait pas prise en compte). \n",
        "La comparaison est effectuée en utilisant une comparaison supérieure ou égale \n",
        "(une adresse possédant exactement 1/1000e de l'offre compte pour SplyAdrBal1in1K).Pour un jour J, les soldes sont prélevés en fin de journée."
      ],
      "metadata": {
        "id": "5VaSV_pT2cRf"
      }
    },
    {
      "cell_type": "code",
      "execution_count": null,
      "metadata": {
        "colab": {
          "base_uri": "https://localhost:8080/",
          "height": 165
        },
        "id": "ho9UUcf1ZH8o",
        "outputId": "c1d49317-43cb-423a-ba88-ddbd36f62271"
      },
      "outputs": [
        {
          "ename": "NameError",
          "evalue": "ignored",
          "output_type": "error",
          "traceback": [
            "\u001b[0;31m---------------------------------------------------------------------------\u001b[0m",
            "\u001b[0;31mNameError\u001b[0m                                 Traceback (most recent call last)",
            "\u001b[0;32m<ipython-input-31-53102388bbdc>\u001b[0m in \u001b[0;36m<module>\u001b[0;34m()\u001b[0m\n\u001b[0;32m----> 1\u001b[0;31m \u001b[0mbtc_data\u001b[0m\u001b[0;34m.\u001b[0m\u001b[0mhead\u001b[0m\u001b[0;34m(\u001b[0m\u001b[0;34m)\u001b[0m\u001b[0;34m\u001b[0m\u001b[0;34m\u001b[0m\u001b[0m\n\u001b[0m",
            "\u001b[0;31mNameError\u001b[0m: name 'btc_data' is not defined"
          ]
        }
      ],
      "source": [
        "print(btc_data['SplyAdrBal1in1K'].describe())\n",
        "x = btc_data['SplyAdrBal1in1K']\n",
        "y = btc_data['time']\n",
        "plt.plot(y, x)\n",
        "plt.show()\n",
        "print(btc_data['SplyAdrBal1in10K'].describe())\n",
        "x = btc_data['SplyAdrBal1in10K']\n",
        "y = btc_data['time']\n",
        "plt.plot(y, x)\n",
        "plt.show()\n",
        "print(btc_data['SplyAdrBal1in1M'].describe())\n",
        "x = btc_data['SplyAdrBal1in1M']\n",
        "y = btc_data['time']\n",
        "plt.plot(y, x)\n",
        "plt.show()\n",
        "print(btc_data['SplyAdrBal1in10M'].describe())\n",
        "x = btc_data['SplyAdrBal1in10M']\n",
        "y = btc_data['time']\n",
        "plt.plot(y, x)\n",
        "plt.show()\n",
        "print(btc_data['SplyAdrBal1in100M'].describe())\n",
        "x = btc_data['SplyAdrBal1in100M']\n",
        "y = btc_data['time']\n",
        "plt.plot(y, x)\n",
        "plt.show()\n",
        "print(btc_data['SplyAdrBal1in1B'].describe())\n",
        "x = btc_data['SplyAdrBal1in1B']\n",
        "y = btc_data['time']\n",
        "plt.plot(y, x)\n",
        "plt.show()\n",
        "print(btc_data['SplyAdrBal1in10B'].describe())\n",
        "x = btc_data['SplyAdrBal1in10B']\n",
        "y = btc_data['time']\n",
        "plt.plot(y, x)\n",
        "plt.show()"
      ]
    },
    {
      "cell_type": "markdown",
      "source": [
        "Pour une adresse possédant exactement 1/1M ou moins de l'offre, la courbe est plus ou moins identique. Elle montre une évolution progressive de 2010 jusqu'à 2022 jusqu'à atteindre 1,6*10^7 adresses possédant exactement 1/1Me de l'offre et un peu plus de 1,75 adresses possèdent exactement 1/[10M,100M,1B,10B]e de  l'offre. On remarque que quotidiennement, énormément d'adresses possèdent une infime partie de la somme de toutes les unités natives. On en déduit que ces unités ne sont pas concentrés par des particuliers mais au contraire, cette \n",
        "richesse est décentralisée."
      ],
      "metadata": {
        "id": "tDrK_6qF5DnN"
      }
    },
    {
      "cell_type": "markdown",
      "source": [
        "#SplyAdrBalNtv0,001 to SplyAdrBalNtv1M\n"
      ],
      "metadata": {
        "id": "MNyeF0VX5Wq_"
      }
    },
    {
      "cell_type": "markdown",
      "source": [
        "La somme de toutes les unités natives détenues  dans des adresses dont le solde était égal ou supérieur à X unités natives à la  fin de la journée. Seules les unités natives sont prises en compte  (par exemple, une adresse avec moins de X ETH mais avec plus de X dans les jetons ERC-20 ne serait pas prise en compte).\n",
        "Cette métrique décompose l'offre d'un actif par le solde des adresses qui le possèdent.\n",
        "La comparaison est effectuée en utilisant une comparaison supérieure ou égale \n",
        "(une adresse possédant exactement 1 unité native compte pour SplyAdrBalNtv1)."
      ],
      "metadata": {
        "id": "-mM6FOXU5dwM"
      }
    },
    {
      "cell_type": "code",
      "source": [
        "print(btc_data['SplyAdrBalNtv0.001'].describe())\n",
        "x = btc_data['SplyAdrBalNtv0.001']\n",
        "y = btc_data['time']\n",
        "plt.plot(y, x)\n",
        "plt.show()\n",
        "print(btc_data['SplyAdrBalNtv0.01'].describe())\n",
        "x = btc_data['SplyAdrBalNtv0.01']\n",
        "y = btc_data['time']\n",
        "plt.plot(y, x)\n",
        "plt.show()\n",
        "print(btc_data['SplyAdrBalNtv0.1'].describe())\n",
        "x = btc_data['SplyAdrBalNtv0.1']\n",
        "y = btc_data['time']\n",
        "plt.plot(y, x)\n",
        "plt.show()\n",
        "print(btc_data['SplyAdrBalNtv1'].describe())\n",
        "x = btc_data['SplyAdrBalNtv1']\n",
        "y = btc_data['time']\n",
        "plt.plot(y, x)\n",
        "plt.show()\n",
        "print(btc_data['SplyAdrBalNtv10'].describe())\n",
        "x = btc_data['SplyAdrBalNtv10']\n",
        "y = btc_data['time']\n",
        "plt.plot(y, x)\n",
        "plt.show()"
      ],
      "metadata": {
        "id": "a1Gzdn6o8E6U"
      },
      "execution_count": null,
      "outputs": []
    },
    {
      "cell_type": "markdown",
      "source": [
        "Pour une adresse possédant exactement 0,001 ... 10 unités natives, la courbe est\n",
        "plus ou moins identique. Elle montre une évolution progressive de 2010 jusqu'à\n",
        "2022 jusqu'à atteindre [1,6;1,75]*10^7 adresses possédant exactement\n",
        "0.001/0.01/.../10 unités natives. Ces données sont similaires à ceux\n",
        "du SplyAdrBal1in10B (jusqu'à 1M). Elles semblent être corrélées."
      ],
      "metadata": {
        "id": "0JsgsGrD8HbU"
      }
    },
    {
      "cell_type": "code",
      "source": [
        "print(btc_data['SplyAdrBalNtv100'].describe())\n",
        "x = btc_data['SplyAdrBalNtv100']\n",
        "y = btc_data['time']\n",
        "plt.plot(y, x)\n",
        "plt.show()"
      ],
      "metadata": {
        "id": "Nimjvf_E8OGs"
      },
      "execution_count": null,
      "outputs": []
    },
    {
      "cell_type": "code",
      "source": [
        "print(btc_data['SplyAdrBalNtv1K'].describe())\n",
        "x = btc_data['SplyAdrBalNtv1K']\n",
        "y = btc_data['time']\n",
        "plt.plot(y, x)\n",
        "plt.show()\n",
        "\n",
        "print(btc_data['SplyAdrBalNtv10K'].describe())\n",
        "x = btc_data['SplyAdrBalNtv10K']\n",
        "y = btc_data['time']\n",
        "plt.plot(y, x)\n",
        "plt.show()\n"
      ],
      "metadata": {
        "id": "760pkGNL8Sgr"
      },
      "execution_count": null,
      "outputs": []
    },
    {
      "cell_type": "markdown",
      "source": [
        "SplyAdrBal1in10K/SplyAdrBal1in1K"
      ],
      "metadata": {
        "id": "ahM990j38bfL"
      }
    },
    {
      "cell_type": "code",
      "source": [
        "print(btc_data['plyAdrBalNtv100K'].describe())\n",
        "x = btc_data['SplyAdrBalNtv100K']\n",
        "y = btc_data['time']\n",
        "plt.plot(y, x)\n",
        "plt.show()"
      ],
      "metadata": {
        "id": "J8apShBe8hmD"
      },
      "execution_count": null,
      "outputs": []
    },
    {
      "cell_type": "markdown",
      "source": [
        "On va s'intéresser à cette courbe à partir de 2017.\n",
        "Il y a des pics descendants vers fin 2017, mi-2019 et début 2021.\n",
        "On remarque que ces pics descendants correspondent en fait à des pics du cours\n",
        "du Bitcoin soit en Décembre 2017, Juillet 2019 et la période Janvier-Avril 2021.\n",
        "Ce sont à ces périodes que les utilisateurs vendent leur BTC alors que ce dernier\n",
        "avait atteint des pics historiques. On remarque encore à travers ces données\n",
        "que le bitcoin n'est pas du tout centralisé et qu'il est réparti entre de\n",
        "milliards d'adresses. De plus, on remarque que ce sont les utilisateurs avec le\n",
        "plus d'unités qui font le plus d'échange."
      ],
      "metadata": {
        "id": "Tm3VKIQ98q4D"
      }
    },
    {
      "cell_type": "code",
      "source": [
        "print(btc_data['SplyAdrBalNtv1M'].describe())\n",
        "x = btc_data['SplyAdrBalNtv1M']\n",
        "y = btc_data['time']\n",
        "plt.plot(y, x)\n",
        "plt.show()"
      ],
      "metadata": {
        "id": "JVFApG2l8xlD"
      },
      "execution_count": null,
      "outputs": []
    },
    {
      "cell_type": "markdown",
      "source": [
        "Donnée nulle ==> Pas intéressante"
      ],
      "metadata": {
        "id": "VJAML9E68ySb"
      }
    },
    {
      "cell_type": "markdown",
      "source": [
        "#SplyAdrBalUSD1 to SplyAdrBalUSD10M"
      ],
      "metadata": {
        "id": "mzPwA6yJ80Ts"
      }
    },
    {
      "cell_type": "markdown",
      "source": [
        "La somme de toutes les unités natives détenues dans \n",
        "des adresses dont le solde était de X dollars ou plus à la fin de la journée. \n",
        "Seules les unités natives sont prises en compte (par exemple, une adresse avec \n",
        "moins de X ETH mais avec plus de X dans les jetons ERC-20 ne serait pas prise en compte).\n",
        "Cette métrique décompose l'offre d'un actif par le solde en USD des adresses qui le possèdent.\n",
        "Pour un jour J, les soldes sont prélevés à la fin de ce jour, le cours utilisé \n",
        "est le cours de clôture de ce jour également.\n",
        "La comparaison est effectuée en utilisant une comparaison supérieure ou égale \n",
        "(une adresse possédant exactement 1 $ compte pour SplyAdrBalUSD1)."
      ],
      "metadata": {
        "id": "1XuRZ10a85ZD"
      }
    },
    {
      "cell_type": "code",
      "source": [
        "print(btc_data['SplyAdrBalUSD1'].describe())\n",
        "x = btc_data['SplyAdrBalUSD1']\n",
        "y = btc_data['time']\n",
        "plt.plot(y, x)\n",
        "plt.show()\n",
        "print(btc_data['SplyAdrBalUSD10'].describe())\n",
        "x = btc_data['SplyAdrBalUSD10']\n",
        "y = btc_data['time']\n",
        "plt.plot(y, x)\n",
        "plt.show()\n",
        "print(btc_data['SplyAdrBalUSD100'].describe())\n",
        "x = btc_data['SplyAdrBalUSD100']\n",
        "y = btc_data['time']\n",
        "plt.plot(y, x)\n",
        "plt.show()\n",
        "print(btc_data['SplyAdrBalUSD1K'].describe())\n",
        "x = btc_data['SplyAdrBalUSD1K']\n",
        "y = btc_data['time']\n",
        "plt.plot(y, x)\n",
        "plt.show()\n",
        "print(btc_data['SplyAdrBalUSD10K'].describe())\n",
        "x = btc_data['SplyAdrBalUSD10K']\n",
        "y = btc_data['time']\n",
        "plt.plot(y, x)\n",
        "plt.show()\n",
        "print(btc_data['SplyAdrBalUSD100K'].describe())\n",
        "x = btc_data['SplyAdrBalUSD100K']\n",
        "y = btc_data['time']\n",
        "plt.plot(y, x)\n",
        "plt.show()"
      ],
      "metadata": {
        "id": "GF0e6q2s9JnE"
      },
      "execution_count": null,
      "outputs": []
    },
    {
      "cell_type": "markdown",
      "source": [
        "On remarquera les tendances sont fortements similaires à partir de 2017.\n",
        "Aussi, on en déduira des données précédentes que le nombre d'utilisateurs\n",
        "augmentent de plus en plus. Ces 3 données nous montrent une certaine\n",
        "corrélation entre elles."
      ],
      "metadata": {
        "id": "oN6v3v4f9Vt6"
      }
    },
    {
      "cell_type": "code",
      "source": [
        "print(btc_data['SplyAdrBalUSD1M'].describe())\n",
        "x = btc_data['SplyAdrBalUSD1M']\n",
        "y = btc_data['time']\n",
        "plt.plot(y, x)\n",
        "plt.show()\n",
        "print(btc_data['SplyAdrBalUSD10M'].describe())\n",
        "x = btc_data['SplyAdrBalUSD10M']\n",
        "y = btc_data['time']\n",
        "plt.plot(y, x)\n",
        "plt.show()"
      ],
      "metadata": {
        "id": "hK5iGfi7-H8s"
      },
      "execution_count": null,
      "outputs": []
    },
    {
      "cell_type": "markdown",
      "source": [
        "Sur les 2 graphiques où les adresses possèdent plus de 1M$, on remarque des pics\n",
        "au mêmes moments que celui du cours du BitCoin. On peut donc assimiler la richesse\n",
        "de ces adresses à la variation du cours du BitCoin puisqu'elle baisse aussi de\n",
        "la même manière."
      ],
      "metadata": {
        "id": "TP7X6bmo-JVZ"
      }
    },
    {
      "cell_type": "markdown",
      "source": [
        "#SplyAdrTop100, SplyAdrTop10Pct et SplyAdrTop1Pct"
      ],
      "metadata": {
        "id": "yPrwMVm3-Lvi"
      }
    },
    {
      "cell_type": "markdown",
      "source": [
        "\n",
        "\n",
        "\n",
        "*   La somme de toutes les unités natives détenues par les \n",
        "100 adresses les plus riches à la fin de cet intervalle de temps.\n",
        "*   La somme de toutes les unités natives détenues par \n",
        "les 10-1 % d'adresses supérieures par solde à la fin de cet intervalle de temps.\n",
        "\n"
      ],
      "metadata": {
        "id": "-n-BEqin-OtT"
      }
    },
    {
      "cell_type": "code",
      "source": [
        "print(btc_data['SplyAdrTop100'].describe())\n",
        "x = btc_data['SplyAdrTop100']\n",
        "y = btc_data['time']\n",
        "plt.plot(y, x)\n",
        "plt.show()\n",
        "print(btc_data['SplyAdrTop10Pct'].describe())\n",
        "x = btc_data['SplyAdrTop10Pct']\n",
        "y = btc_data['time']\n",
        "plt.plot(y, x)\n",
        "plt.show()\n",
        "print(btc_data['SplyAdrTop1Pct'].describe())\n",
        "x = btc_data['SplyAdrTop1Pct']\n",
        "y = btc_data['time']\n",
        "plt.plot(y, x)\n",
        "plt.show()"
      ],
      "metadata": {
        "id": "33mKdFoC-giu"
      },
      "execution_count": null,
      "outputs": []
    },
    {
      "cell_type": "markdown",
      "source": [
        "COMMENTAIRE"
      ],
      "metadata": {
        "id": "_SHfE2ZG-vzb"
      }
    },
    {
      "cell_type": "markdown",
      "source": [
        "#SplyCur"
      ],
      "metadata": {
        "id": "yOPxv96t-xXM"
      }
    },
    {
      "cell_type": "markdown",
      "source": [
        "La somme de toutes les unités natives jamais créées et actuellement \n",
        "visibles sur le grand livre (c'est-à-dire émises) à ce jour. Pour les protocoles \n",
        "basés sur des comptes, seuls les comptes avec des soldes positifs sont comptés.\n",
        "Cette métrique peut également être qualifiée d'\"offre totale émise\" car elle \n",
        "capture la somme de toutes les unités natives visibles dans le grand livre \n",
        "jusqu'au point de calcul de la métrique.\n",
        "Pour les chaînes de comptes, l'offre actuelle est la somme de tous les soldes de comptes."
      ],
      "metadata": {
        "id": "_IKbw3RH-4Mp"
      }
    },
    {
      "cell_type": "code",
      "source": [
        "print(btc_data['SplyCur'].describe())\n",
        "x = btc_data['SplyCur']\n",
        "y = btc_data['time']\n",
        "plt.plot(y, x)\n",
        "plt.show()"
      ],
      "metadata": {
        "id": "81xJ8ZOM--Xh"
      },
      "execution_count": null,
      "outputs": []
    },
    {
      "cell_type": "markdown",
      "source": [
        "Il y a eu une augmentation progressive d'unités natives placées sur le marché de\n",
        "la cryptomonnaie atteingnant à ce jour environ 19M d'unités. Il semblerait que\n",
        "cette croissance continue après 2022."
      ],
      "metadata": {
        "id": "Ah0HGTl3-_Dz"
      }
    },
    {
      "cell_type": "markdown",
      "source": [
        "#SplyExpFut10yr"
      ],
      "metadata": {
        "id": "-3zPs4fs_Eds"
      }
    },
    {
      "cell_type": "markdown",
      "source": [
        "La somme de toutes les unités natives comptant l'offre \n",
        "actuelle et incluant toutes celles qui devraient être émises au cours des \n",
        "10 prochaines années à partir de ce jour si le calendrier d'émission continu \n",
        "connu actuel est suivi. Les futurs hard-forks attendus qui modifieront l'émission \n",
        "continue ne sont pas pris en compte avant le jour où ils sont activés/appliqués."
      ],
      "metadata": {
        "id": "yzKjBm9__G-D"
      }
    },
    {
      "cell_type": "code",
      "source": [
        "print(btc_data['SplyExpFut10yr'].describe())\n",
        "x = btc_data['SplyExpFut10yr']\n",
        "y = btc_data['time']\n",
        "plt.plot(y, x)\n",
        "plt.show()"
      ],
      "metadata": {
        "id": "xZvNfTQa_JFF"
      },
      "execution_count": null,
      "outputs": []
    },
    {
      "cell_type": "markdown",
      "source": [
        "COMMENTAIRE"
      ],
      "metadata": {
        "id": "7hHUsVqh_KpL"
      }
    },
    {
      "cell_type": "markdown",
      "source": [
        "#SplyFF"
      ],
      "metadata": {
        "id": "4i5AInhh_Nct"
      }
    },
    {
      "cell_type": "markdown",
      "source": [
        "La somme de toutes les unités natives jamais créées et visibles sur \n",
        "le grand livre, à l'exclusion des unités natives détenues étroitement par des \n",
        "initiés de l'entreprise, des investisseurs contrôlant et des détenteurs \n",
        "stratégiques à long terme à ce jour.Free Float Supply est une mesure de l'offre \n",
        "qui exclut les jetons détenus étroitement par les initiés de l'entreprise, \n",
        "les investisseurs contrôlant et les détenteurs stratégiques à long terme. \n",
        "Cela inclut les jetons d'entreprise, de fondation blockchain et de membre de \n",
        "l'équipe fondatrice qui peuvent ou non être soumis à des séquestres. \n",
        "En outre, Free Float Supply exclut également les grands portefeuilles de jetons \n",
        "brûlés et les fonds qui ont été manifestement perdus."
      ],
      "metadata": {
        "id": "edNFBcIn_Qkj"
      }
    },
    {
      "cell_type": "code",
      "source": [
        "print(btc_data['SplyFF'].describe())\n",
        "x = btc_data['SplyFF']\n",
        "y = btc_data['time']\n",
        "plt.plot(y, x)\n",
        "plt.show()"
      ],
      "metadata": {
        "id": "7L7bYavK_RLB"
      },
      "execution_count": null,
      "outputs": []
    },
    {
      "cell_type": "markdown",
      "source": [
        "COMMENTAIRE"
      ],
      "metadata": {
        "id": "JaJ301NR_UTi"
      }
    },
    {
      "cell_type": "markdown",
      "source": [
        "#SplyMiner0HopAllNtv"
      ],
      "metadata": {
        "id": "Lad-qg9N_WhR"
      }
    },
    {
      "cell_type": "markdown",
      "source": [
        "La somme des soldes de toutes les entités minières/USD. \n",
        "Une entité minière est définie comme une adresse qui a été créditée à partir \n",
        "d'une transaction débitant les comptes 'FEES' ou 'ISSUANCE' conformément au modèle \n",
        "de données Universal Blockchain (UBDM) de Coin Metric."
      ],
      "metadata": {
        "id": "zcqf1SCF_ath"
      }
    },
    {
      "cell_type": "code",
      "source": [
        "print(btc_data['SplyMiner0HopAllNtv'].describe())\n",
        "x = btc_data['SplyMiner0HopAllNtv']\n",
        "y = btc_data['time']\n",
        "plt.plot(y, x)\n",
        "plt.show()"
      ],
      "metadata": {
        "id": "_oAmD2K6_e1h"
      },
      "execution_count": null,
      "outputs": []
    },
    {
      "cell_type": "markdown",
      "source": [
        "On observe que le nombre d'entités minières augmentent fortement en 2010 jusqu'à\n",
        "2011 pour une quantité de 2,6M mais baisse cependant à hauteur de 2,1M vers fin 2011.\n",
        "On constate un pic maximum en 2012 qui pourrait être due au premier halving\n",
        "(réduction de moitié de la récompense de minage de Bitcoins) qui a eu lieu, \n",
        "passant de 50 à 25 BTC."
      ],
      "metadata": {
        "id": "aL0l_Hxd_fKZ"
      }
    },
    {
      "cell_type": "markdown",
      "source": [
        "#SplyMiner0HopAllUSD"
      ],
      "metadata": {
        "id": "5IcCxSNh_wNR"
      }
    },
    {
      "cell_type": "code",
      "source": [
        "print(btc_data['SplyMiner0HopAllUSD'].describe())\n",
        "x = btc_data['SplyMiner0HopAllUSD']\n",
        "y = btc_data['time']\n",
        "plt.plot(y, x)\n",
        "plt.show()"
      ],
      "metadata": {
        "id": "Dz_dSlQ7_oM5"
      },
      "execution_count": null,
      "outputs": []
    },
    {
      "cell_type": "markdown",
      "source": [
        "Le marché du BTC à commencer à exploser vers fin 2017 avec un premier pic à 40Mi \n",
        "où elle voit une perte de vitesse pour connaître une ascension fulgurante en 2019.\n",
        "Lors de la crise COVID, elle stagne un peu. Enfin, le halving du Bitcoin, \n",
        "procédé qui divise par deux la récompense offerte pour le minage d’un bloc de \n",
        "Bitcoin et qui se tient tous les quatre ans a fatalement des retombées économiques \n",
        "importantes, menant généralement à une hausse massive du prix du BTC. "
      ],
      "metadata": {
        "id": "wVR7ThCK_q4K"
      }
    },
    {
      "cell_type": "markdown",
      "source": [
        "#TxCnt, TxCntSec"
      ],
      "metadata": {
        "id": "Js9qmpzx_9Oh"
      }
    },
    {
      "cell_type": "markdown",
      "source": [
        "Le nombre total de transactions ce jour-là/par seconde. Les transactions représentent \n",
        "un ensemble d'actions destinées à modifier le registre initiées par un utilisateur \n",
        "(humain ou machine). À certaines occasions, les transactions sont comptabilisées, \n",
        "qu'elles entraînent ou non le transfert d'unités autochtones. \n",
        "Tant que ces transactions sont enregistrées sur la chaîne, elles seront incluses \n",
        "dans le calcul de cette métrique. Les modifications du registre mandatées de manière \n",
        "algorithmique par le protocole, telles que les transactions coinbase ou les nouvelles \n",
        "émissions post-lancement, ne sont pas incluses ici."
      ],
      "metadata": {
        "id": "1694pi6hEbEQ"
      }
    },
    {
      "cell_type": "code",
      "source": [
        "print(btc_data['TxCnt'].describe())\n",
        "x = btc_data['TxCnt']\n",
        "y = btc_data['time']\n",
        "plt.plot(y, x)\n",
        "plt.show()\n",
        "print(btc_data['TxCntSec'].describe())\n",
        "x = btc_data['TxCntSec']\n",
        "y = btc_data['time']\n",
        "plt.plot(y, x)\n",
        "plt.show()"
      ],
      "metadata": {
        "id": "40bUqDamEgoK"
      },
      "execution_count": null,
      "outputs": []
    },
    {
      "cell_type": "markdown",
      "source": [
        "COMMENTAIRE"
      ],
      "metadata": {
        "id": "-JcvFFCcEh0P"
      }
    },
    {
      "cell_type": "markdown",
      "source": [
        "#TxTfrCnt"
      ],
      "metadata": {
        "id": "qw-dGAYOEjhp"
      }
    },
    {
      "cell_type": "markdown",
      "source": [
        "Le nombre total de transferts de cet intervalle. Une transaction \n",
        "est composée d'un ou plusieurs transferts entre différentes entités. Une seule \n",
        "transaction peut contenir des dizaines de transferts distincts, qui représentent \n",
        "les mouvements d'unités natives d'une entité comptable vers une autre entité \n",
        "comptable distincte. Seuls les transferts qui ont une valeur positive (non nulle) \n",
        "sont comptabilisés. Les transferts sont familièrement appelés \"paiements\"."
      ],
      "metadata": {
        "id": "34-Jh_G3EkiW"
      }
    },
    {
      "cell_type": "code",
      "source": [
        "print(btc_data['TxTfrCnt'].describe())\n",
        "x = btc_data['TxTfrCnt']\n",
        "y = btc_data['time']\n",
        "plt.plot(y, x)\n",
        "plt.show()"
      ],
      "metadata": {
        "id": "Y6HprZKkEoQY"
      },
      "execution_count": null,
      "outputs": []
    },
    {
      "cell_type": "markdown",
      "source": [
        "On remarque qu'entre 2017 et 2022, ce nombre de transferts fluctue entre 0.1 et 0.5.\n",
        "Cependant, des pics sont présents à la suite de la baisse du cours du BTC.\n"
      ],
      "metadata": {
        "id": "iJU-ZeH6Eolo"
      }
    },
    {
      "cell_type": "markdown",
      "source": [
        "#TxTfrValAdjUSD, TxTfrValAdjNtv"
      ],
      "metadata": {
        "id": "6_RlEtLKEuKX"
      }
    },
    {
      "cell_type": "markdown",
      "source": [
        "La valeur en USD/unité native de la somme des unités natives \n",
        "transférées ce jour-là en supprimant le bruit et certains artefacts."
      ],
      "metadata": {
        "id": "6TErOhnxE15n"
      }
    },
    {
      "cell_type": "code",
      "source": [
        "print(btc_data['TxTfrValAdjNtv'].describe())\n",
        "x = btc_data['TxTfrValAdjNtv']\n",
        "y = btc_data['time']\n",
        "plt.plot(y, x)\n",
        "plt.show() \n",
        "\n",
        "print(btc_data['TxTfrValAdjUSD'].describe())\n",
        "x = btc_data['TxTfrValAdjUSD']\n",
        "y = btc_data['time']\n",
        "plt.plot(y, x)\n",
        "plt.show()"
      ],
      "metadata": {
        "id": "MZ8JKt2JE2Z3"
      },
      "execution_count": null,
      "outputs": []
    },
    {
      "cell_type": "markdown",
      "source": [
        "COMMENTAIRE"
      ],
      "metadata": {
        "id": "_dpZPBi6E6U3"
      }
    },
    {
      "cell_type": "markdown",
      "source": [
        "#TxTfrValMeanNtv, TxTfrValMeanUSD"
      ],
      "metadata": {
        "id": "0u8XwMGBFBvg"
      }
    },
    {
      "cell_type": "markdown",
      "source": [
        "La valeur totale des unités natives/USD transférées \n",
        "divisée par le nombre de transferts (c'est-à-dire la taille moyenne d'un transfert) \n",
        "entre des adresses distinctes à cet intervalle."
      ],
      "metadata": {
        "id": "8krYHBa3FEp_"
      }
    },
    {
      "cell_type": "code",
      "source": [
        "print(btc_data['TxTfrValMeanNtv'].describe())\n",
        "x = btc_data['TxTfrValMeanNtv']\n",
        "y = btc_data['time']\n",
        "plt.plot(y, x)\n",
        "plt.show()"
      ],
      "metadata": {
        "id": "scS7_AzJFJPS"
      },
      "execution_count": null,
      "outputs": []
    },
    {
      "cell_type": "markdown",
      "source": [
        "Non pertinent"
      ],
      "metadata": {
        "id": "A0EZWDfKFKjn"
      }
    },
    {
      "cell_type": "code",
      "source": [
        "print(btc_data['TxTfrValMeanUSD'].describe())\n",
        "x = btc_data['TxTfrValMeanUSD']\n",
        "y = btc_data['time']\n",
        "plt.plot(y, x)\n",
        "plt.show()"
      ],
      "metadata": {
        "id": "7SlXNJ13FMDH"
      },
      "execution_count": null,
      "outputs": []
    },
    {
      "cell_type": "markdown",
      "source": [
        "Une concentration autour de fin 2021 - début 2022 dont une moyenne de transfert\n",
        "atteignant une taille de 500K en 2021. On peut supposer qu'il y a eu un nombre\n",
        "important de transfert d'unités natives."
      ],
      "metadata": {
        "id": "TwED5sYZFNSq"
      }
    },
    {
      "cell_type": "markdown",
      "source": [
        "#TxTfrValMedNtv, TxTfrValMedUSD"
      ],
      "metadata": {
        "id": "z_J7vOY9GX0P"
      }
    },
    {
      "cell_type": "markdown",
      "source": [
        "Le nombre médian d'unités natives/USD transférées par \n",
        "transfert (c'est-à-dire la \"taille\" médiane d'un transfert) ce jour-là."
      ],
      "metadata": {
        "id": "GakdwC-LGbfH"
      }
    },
    {
      "cell_type": "code",
      "source": [
        "print(btc_data['TxTfrValMedNtv'].describe())\n",
        "x = btc_data['TxTfrValMedNtv']\n",
        "y = btc_data['time']\n",
        "plt.plot(y, x)\n",
        "plt.show()"
      ],
      "metadata": {
        "id": "GZE8E8soGdVn"
      },
      "execution_count": null,
      "outputs": []
    },
    {
      "cell_type": "markdown",
      "source": [
        "Non pertinent"
      ],
      "metadata": {
        "id": "2BUdqc1RGeYb"
      }
    },
    {
      "cell_type": "code",
      "source": [
        "print(btc_data['TxTfrValMedUSD'].describe())\n",
        "x = btc_data['TxTfrValMedUSD']\n",
        "y = btc_data['time']\n",
        "plt.plot(y, x)\n",
        "plt.show()"
      ],
      "metadata": {
        "id": "6Ay6zzYdGfcf"
      },
      "execution_count": null,
      "outputs": []
    },
    {
      "cell_type": "markdown",
      "source": [
        "COMMENTAIRE"
      ],
      "metadata": {
        "id": "JfdhaHx7Gf_j"
      }
    },
    {
      "cell_type": "markdown",
      "source": [
        "#VtyDayRet180d"
      ],
      "metadata": {
        "id": "2bMcj5p8T9Et"
      }
    },
    {
      "cell_type": "markdown",
      "source": [
        "La volatilité X jours, mesurée comme l'écart des rendements logarithmiques"
      ],
      "metadata": {
        "id": "qcnEyk8JUIyQ"
      }
    },
    {
      "cell_type": "code",
      "source": [
        "print(btc_data['VtyDayRet180d'].describe())\n",
        "x = btc_data['VtyDayRet180d']\n",
        "y = btc_data['time']\n",
        "plt.plot(y, x)\n",
        "plt.show()"
      ],
      "metadata": {
        "id": "pRktivVXT8Ct"
      },
      "execution_count": null,
      "outputs": []
    },
    {
      "cell_type": "markdown",
      "source": [
        "COMMENTAIRE\n",
        "\n"
      ],
      "metadata": {
        "id": "zC7N6RbdUDC5"
      }
    }
  ],
  "metadata": {
    "colab": {
      "collapsed_sections": [
        "f3a2T0DEuvcw",
        "MNyeF0VX5Wq_",
        "mzPwA6yJ80Ts",
        "yPrwMVm3-Lvi",
        "yOPxv96t-xXM",
        "-3zPs4fs_Eds",
        "4i5AInhh_Nct",
        "Lad-qg9N_WhR",
        "5IcCxSNh_wNR",
        "Js9qmpzx_9Oh",
        "qw-dGAYOEjhp",
        "6_RlEtLKEuKX",
        "0u8XwMGBFBvg",
        "z_J7vOY9GX0P",
        "2bMcj5p8T9Et"
      ],
      "name": "BTC Project 96-143.ipynb",
      "provenance": []
    },
    "kernelspec": {
      "display_name": "Python 3",
      "name": "python3"
    },
    "language_info": {
      "name": "python"
    }
  },
  "nbformat": 4,
  "nbformat_minor": 0
}