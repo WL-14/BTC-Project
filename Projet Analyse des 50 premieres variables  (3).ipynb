{
 "cells": [
  {
   "cell_type": "code",
   "execution_count": 27,
   "id": "fbc4a982",
   "metadata": {},
   "outputs": [],
   "source": [
    "import pandas as pd\n",
    "import numpy as np\n",
    "import matplotlib.pyplot as plt\n",
    "\n",
    "\n",
    "%matplotlib inline"
   ]
  },
  {
   "cell_type": "code",
   "execution_count": 28,
   "id": "23e442d8",
   "metadata": {
    "scrolled": true
   },
   "outputs": [],
   "source": [
    "df = pd.read_csv('/Users/alexa/Downloads/btc.csv')"
   ]
  },
  {
   "cell_type": "code",
   "execution_count": 34,
   "id": "ec9c78c4",
   "metadata": {},
   "outputs": [
    {
     "data": {
      "text/html": [
       "<div>\n",
       "<style scoped>\n",
       "    .dataframe tbody tr th:only-of-type {\n",
       "        vertical-align: middle;\n",
       "    }\n",
       "\n",
       "    .dataframe tbody tr th {\n",
       "        vertical-align: top;\n",
       "    }\n",
       "\n",
       "    .dataframe thead th {\n",
       "        text-align: right;\n",
       "    }\n",
       "</style>\n",
       "<table border=\"1\" class=\"dataframe\">\n",
       "  <thead>\n",
       "    <tr style=\"text-align: right;\">\n",
       "      <th></th>\n",
       "      <th>time</th>\n",
       "      <th>AdrActCnt</th>\n",
       "      <th>AdrBal1in100KCnt</th>\n",
       "      <th>AdrBal1in100MCnt</th>\n",
       "      <th>AdrBal1in10BCnt</th>\n",
       "      <th>AdrBal1in10KCnt</th>\n",
       "      <th>AdrBal1in10MCnt</th>\n",
       "      <th>AdrBal1in1BCnt</th>\n",
       "      <th>AdrBal1in1KCnt</th>\n",
       "      <th>AdrBal1in1MCnt</th>\n",
       "      <th>...</th>\n",
       "      <th>TxTfrCnt</th>\n",
       "      <th>TxTfrValAdjNtv</th>\n",
       "      <th>TxTfrValAdjUSD</th>\n",
       "      <th>TxTfrValMeanNtv</th>\n",
       "      <th>TxTfrValMeanUSD</th>\n",
       "      <th>TxTfrValMedNtv</th>\n",
       "      <th>TxTfrValMedUSD</th>\n",
       "      <th>VelCur1yr</th>\n",
       "      <th>VtyDayRet180d</th>\n",
       "      <th>VtyDayRet30d</th>\n",
       "    </tr>\n",
       "  </thead>\n",
       "  <tbody>\n",
       "    <tr>\n",
       "      <th>0</th>\n",
       "      <td>2009-01-03</td>\n",
       "      <td>0.0</td>\n",
       "      <td>0.0</td>\n",
       "      <td>0.0</td>\n",
       "      <td>0.0</td>\n",
       "      <td>0.0</td>\n",
       "      <td>0.0</td>\n",
       "      <td>0.0</td>\n",
       "      <td>0.0</td>\n",
       "      <td>0.0</td>\n",
       "      <td>...</td>\n",
       "      <td>0.0</td>\n",
       "      <td>0.0</td>\n",
       "      <td>NaN</td>\n",
       "      <td>NaN</td>\n",
       "      <td>NaN</td>\n",
       "      <td>NaN</td>\n",
       "      <td>NaN</td>\n",
       "      <td>NaN</td>\n",
       "      <td>NaN</td>\n",
       "      <td>NaN</td>\n",
       "    </tr>\n",
       "    <tr>\n",
       "      <th>1</th>\n",
       "      <td>2009-01-04</td>\n",
       "      <td>0.0</td>\n",
       "      <td>0.0</td>\n",
       "      <td>0.0</td>\n",
       "      <td>0.0</td>\n",
       "      <td>0.0</td>\n",
       "      <td>0.0</td>\n",
       "      <td>0.0</td>\n",
       "      <td>0.0</td>\n",
       "      <td>0.0</td>\n",
       "      <td>...</td>\n",
       "      <td>0.0</td>\n",
       "      <td>0.0</td>\n",
       "      <td>NaN</td>\n",
       "      <td>NaN</td>\n",
       "      <td>NaN</td>\n",
       "      <td>NaN</td>\n",
       "      <td>NaN</td>\n",
       "      <td>NaN</td>\n",
       "      <td>NaN</td>\n",
       "      <td>NaN</td>\n",
       "    </tr>\n",
       "    <tr>\n",
       "      <th>2</th>\n",
       "      <td>2009-01-05</td>\n",
       "      <td>0.0</td>\n",
       "      <td>0.0</td>\n",
       "      <td>0.0</td>\n",
       "      <td>0.0</td>\n",
       "      <td>0.0</td>\n",
       "      <td>0.0</td>\n",
       "      <td>0.0</td>\n",
       "      <td>0.0</td>\n",
       "      <td>0.0</td>\n",
       "      <td>...</td>\n",
       "      <td>0.0</td>\n",
       "      <td>0.0</td>\n",
       "      <td>NaN</td>\n",
       "      <td>NaN</td>\n",
       "      <td>NaN</td>\n",
       "      <td>NaN</td>\n",
       "      <td>NaN</td>\n",
       "      <td>NaN</td>\n",
       "      <td>NaN</td>\n",
       "      <td>NaN</td>\n",
       "    </tr>\n",
       "    <tr>\n",
       "      <th>3</th>\n",
       "      <td>2009-01-06</td>\n",
       "      <td>0.0</td>\n",
       "      <td>0.0</td>\n",
       "      <td>0.0</td>\n",
       "      <td>0.0</td>\n",
       "      <td>0.0</td>\n",
       "      <td>0.0</td>\n",
       "      <td>0.0</td>\n",
       "      <td>0.0</td>\n",
       "      <td>0.0</td>\n",
       "      <td>...</td>\n",
       "      <td>0.0</td>\n",
       "      <td>0.0</td>\n",
       "      <td>NaN</td>\n",
       "      <td>NaN</td>\n",
       "      <td>NaN</td>\n",
       "      <td>NaN</td>\n",
       "      <td>NaN</td>\n",
       "      <td>NaN</td>\n",
       "      <td>NaN</td>\n",
       "      <td>NaN</td>\n",
       "    </tr>\n",
       "    <tr>\n",
       "      <th>4</th>\n",
       "      <td>2009-01-07</td>\n",
       "      <td>0.0</td>\n",
       "      <td>0.0</td>\n",
       "      <td>0.0</td>\n",
       "      <td>0.0</td>\n",
       "      <td>0.0</td>\n",
       "      <td>0.0</td>\n",
       "      <td>0.0</td>\n",
       "      <td>0.0</td>\n",
       "      <td>0.0</td>\n",
       "      <td>...</td>\n",
       "      <td>0.0</td>\n",
       "      <td>0.0</td>\n",
       "      <td>NaN</td>\n",
       "      <td>NaN</td>\n",
       "      <td>NaN</td>\n",
       "      <td>NaN</td>\n",
       "      <td>NaN</td>\n",
       "      <td>NaN</td>\n",
       "      <td>NaN</td>\n",
       "      <td>NaN</td>\n",
       "    </tr>\n",
       "  </tbody>\n",
       "</table>\n",
       "<p>5 rows × 144 columns</p>\n",
       "</div>"
      ],
      "text/plain": [
       "        time  AdrActCnt  AdrBal1in100KCnt  AdrBal1in100MCnt  AdrBal1in10BCnt  \\\n",
       "0 2009-01-03        0.0               0.0               0.0              0.0   \n",
       "1 2009-01-04        0.0               0.0               0.0              0.0   \n",
       "2 2009-01-05        0.0               0.0               0.0              0.0   \n",
       "3 2009-01-06        0.0               0.0               0.0              0.0   \n",
       "4 2009-01-07        0.0               0.0               0.0              0.0   \n",
       "\n",
       "   AdrBal1in10KCnt  AdrBal1in10MCnt  AdrBal1in1BCnt  AdrBal1in1KCnt  \\\n",
       "0              0.0              0.0             0.0             0.0   \n",
       "1              0.0              0.0             0.0             0.0   \n",
       "2              0.0              0.0             0.0             0.0   \n",
       "3              0.0              0.0             0.0             0.0   \n",
       "4              0.0              0.0             0.0             0.0   \n",
       "\n",
       "   AdrBal1in1MCnt  ...  TxTfrCnt  TxTfrValAdjNtv  TxTfrValAdjUSD  \\\n",
       "0             0.0  ...       0.0             0.0             NaN   \n",
       "1             0.0  ...       0.0             0.0             NaN   \n",
       "2             0.0  ...       0.0             0.0             NaN   \n",
       "3             0.0  ...       0.0             0.0             NaN   \n",
       "4             0.0  ...       0.0             0.0             NaN   \n",
       "\n",
       "   TxTfrValMeanNtv  TxTfrValMeanUSD  TxTfrValMedNtv  TxTfrValMedUSD  \\\n",
       "0              NaN              NaN             NaN             NaN   \n",
       "1              NaN              NaN             NaN             NaN   \n",
       "2              NaN              NaN             NaN             NaN   \n",
       "3              NaN              NaN             NaN             NaN   \n",
       "4              NaN              NaN             NaN             NaN   \n",
       "\n",
       "   VelCur1yr  VtyDayRet180d  VtyDayRet30d  \n",
       "0        NaN            NaN           NaN  \n",
       "1        NaN            NaN           NaN  \n",
       "2        NaN            NaN           NaN  \n",
       "3        NaN            NaN           NaN  \n",
       "4        NaN            NaN           NaN  \n",
       "\n",
       "[5 rows x 144 columns]"
      ]
     },
     "execution_count": 34,
     "metadata": {},
     "output_type": "execute_result"
    }
   ],
   "source": [
    "df.head()"
   ]
  },
  {
   "cell_type": "code",
   "execution_count": 35,
   "id": "79ad6b11",
   "metadata": {},
   "outputs": [
    {
     "data": {
      "text/plain": [
       "(4839, 144)"
      ]
     },
     "execution_count": 35,
     "metadata": {},
     "output_type": "execute_result"
    }
   ],
   "source": [
    "df.shape"
   ]
  },
  {
   "cell_type": "code",
   "execution_count": 36,
   "id": "1b422e1e",
   "metadata": {},
   "outputs": [
    {
     "name": "stdout",
     "output_type": "stream",
     "text": [
      "<class 'pandas.core.frame.DataFrame'>\n",
      "RangeIndex: 4839 entries, 0 to 4838\n",
      "Columns: 144 entries, time to VtyDayRet30d\n",
      "dtypes: datetime64[ns](1), float64(143)\n",
      "memory usage: 5.3 MB\n"
     ]
    }
   ],
   "source": [
    "df.info()"
   ]
  },
  {
   "cell_type": "code",
   "execution_count": 29,
   "id": "893dab44",
   "metadata": {},
   "outputs": [],
   "source": [
    "df['time'] = pd.to_datetime(df['time'])"
   ]
  },
  {
   "cell_type": "code",
   "execution_count": 30,
   "id": "bb411744",
   "metadata": {},
   "outputs": [
    {
     "data": {
      "text/plain": [
       "array([2009, 2010, 2011, 2012, 2013, 2014, 2015, 2016, 2017, 2018, 2019,\n",
       "       2020, 2021, 2022], dtype=int64)"
      ]
     },
     "execution_count": 30,
     "metadata": {},
     "output_type": "execute_result"
    }
   ],
   "source": [
    "df['time'].dt.year.unique()"
   ]
  },
  {
   "cell_type": "markdown",
   "id": "14304400",
   "metadata": {},
   "source": [
    "Variable 1"
   ]
  },
  {
   "cell_type": "markdown",
   "id": "b4c47b34",
   "metadata": {},
   "source": [
    "\"AdrActCnt\" est Le nombre total d'adresses uniques qui étaient actives dans le réseau.\n",
    "Les adresses actives sont une mesure populaire pour représenter le nombre d'utilisateurs sur une blockchain, \n",
    "car elles sont généralement moins sensibles aux tests de résistance"
   ]
  },
  {
   "cell_type": "code",
   "execution_count": 11,
   "id": "fe0a8c79",
   "metadata": {},
   "outputs": [
    {
     "data": {
      "text/plain": [
       "count    4.838000e+03\n",
       "mean     4.061667e+05\n",
       "std      3.735771e+05\n",
       "min      0.000000e+00\n",
       "25%      2.551825e+04\n",
       "50%      3.000685e+05\n",
       "75%      7.217958e+05\n",
       "max      1.366494e+06\n",
       "Name: AdrActCnt, dtype: float64"
      ]
     },
     "execution_count": 11,
     "metadata": {},
     "output_type": "execute_result"
    }
   ],
   "source": [
    "df['AdrActCnt'].describe()\n"
   ]
  },
  {
   "cell_type": "code",
   "execution_count": 9,
   "id": "89f2b090",
   "metadata": {},
   "outputs": [
    {
     "data": {
      "text/plain": [
       "<AxesSubplot:ylabel='Frequency'>"
      ]
     },
     "execution_count": 9,
     "metadata": {},
     "output_type": "execute_result"
    },
    {
     "data": {
      "image/png": "[encoded data removed]",
      "text/plain": [
       "<Figure size 432x288 with 1 Axes>"
      ]
     },
     "metadata": {
      "needs_background": "light"
     },
     "output_type": "display_data"
    }
   ],
   "source": [
    "\n",
    "df['AdrActCnt'].plot.hist(by=None, bins=10)"
   ]
  },
  {
   "cell_type": "code",
   "execution_count": 11,
   "id": "87dc8756",
   "metadata": {},
   "outputs": [
    {
     "data": {
      "text/plain": [
       "<AxesSubplot:ylabel='Density'>"
      ]
     },
     "execution_count": 11,
     "metadata": {},
     "output_type": "execute_result"
    },
    {
     "data": {
      "image/png": "[encoded data removed]",
      "text/plain": [
       "<Figure size 432x288 with 1 Axes>"
      ]
     },
     "metadata": {
      "needs_background": "light"
     },
     "output_type": "display_data"
    }
   ],
   "source": [
    "df['AdrActCnt'].plot.kde()"
   ]
  },
  {
   "cell_type": "code",
   "execution_count": 31,
   "id": "feb780b3",
   "metadata": {},
   "outputs": [
    {
     "data": {
      "image/png": "[encoded data removed]",
      "text/plain": [
       "<Figure size 432x288 with 1 Axes>"
      ]
     },
     "metadata": {
      "needs_background": "light"
     },
     "output_type": "display_data"
    }
   ],
   "source": [
    "x = df['AdrActCnt']\n",
    "y = df['time']\n",
    "plt.plot(y, x)\n",
    "\n",
    "plt.show() "
   ]
  },
  {
   "cell_type": "markdown",
   "id": "c570c34f",
   "metadata": {},
   "source": [
    "On peut voir que le nombre d'adresse active unique varie énormément d'une année a l'autre. En fin d'année 2017 le nombre d'adresse\n",
    "active unique explose avant de décroître tres rapidement en 2018 pour fluctuer entre 0.6 et 0.7 *10^6 adresses. Le nombre d'adresse\n",
    "active unique ne semble pas avoir été affecté négativement par l'arrive du covid au début de l'année 2020. En effet leur nombre \n",
    "continuera d'augmenter jusqu'a fin 2021 pour connaître un nouveau record"
   ]
  },
  {
   "cell_type": "markdown",
   "id": "1bf2725c",
   "metadata": {},
   "source": [
    "Variable 2 AdrBal1in100KCnt\n",
    "Les adresses, avec solde, supérieures à 1 sur 100 000, comptent"
   ]
  },
  {
   "cell_type": "code",
   "execution_count": 53,
   "id": "011f281c",
   "metadata": {},
   "outputs": [
    {
     "data": {
      "text/plain": [
       "count     4838.000000\n",
       "mean     11992.031831\n",
       "std      10244.436109\n",
       "min          0.000000\n",
       "25%       8895.000000\n",
       "50%       9183.000000\n",
       "75%       9423.000000\n",
       "max      54047.000000\n",
       "Name: AdrBal1in100KCnt, dtype: float64"
      ]
     },
     "execution_count": 53,
     "metadata": {},
     "output_type": "execute_result"
    }
   ],
   "source": [
    "df['AdrBal1in100KCnt'].describe()"
   ]
  },
  {
   "cell_type": "code",
   "execution_count": 33,
   "id": "ec7d9cc8",
   "metadata": {},
   "outputs": [
    {
     "data": {
      "image/png": "[encoded data removed]",
      "text/plain": [
       "<Figure size 432x288 with 1 Axes>"
      ]
     },
     "metadata": {
      "needs_background": "light"
     },
     "output_type": "display_data"
    }
   ],
   "source": [
    "x = df['AdrBal1in100KCnt']\n",
    "y = df['time']\n",
    "plt.plot(y, x)\n",
    "\n",
    "plt.show() \n"
   ]
  },
  {
   "cell_type": "markdown",
   "id": "264b108e",
   "metadata": {},
   "source": [
    "On peut voir que ce nombre d'adresses tourne autour de 10 000 unités et reste constant au fil des années. Cette donnée ne sera\n",
    "donc pas intéressante pour notre analyse.\n",
    "Le nombre d'adresses unique reste ayant une valeur de supérieur ou égale a 1/ 10 000 sont plutôt stable aux alentour de 10 000 \n",
    "depuis 2012. Ainsi on peut voir que certains possésseurs d'adresses unique concentre une grande possession des parts du bitcoin.\n",
    "Le nombre inchangé d'adresse unique montre que certains utilisateurs ne revendent pas leur part de bitcoin et le laisse dormir pour qu'il prenne de la valeur."
   ]
  },
  {
   "cell_type": "markdown",
   "id": "43a1b5ae",
   "metadata": {},
   "source": [
    "\n",
    "Variable 3\n",
    "Les adresses, avec solde, supérieures à 1 sur 100 millions, comptent\n",
    "Le calcul utilise une comparaison supérieure ou égale : posséder exactement 1 milliardième de \n",
    "l'offre actuelle qualifie une adresse pour AdrBal1in1BCnt"
   ]
  },
  {
   "cell_type": "code",
   "execution_count": 55,
   "id": "3ce8b6bd",
   "metadata": {},
   "outputs": [
    {
     "data": {
      "text/plain": [
       "count    4.838000e+03\n",
       "mean     1.001606e+06\n",
       "std      8.412964e+05\n",
       "min      0.000000e+00\n",
       "25%      1.780738e+05\n",
       "50%      7.206030e+05\n",
       "75%      1.890534e+06\n",
       "max      2.339849e+06\n",
       "Name: AdrBal1in100MCnt, dtype: float64"
      ]
     },
     "execution_count": 55,
     "metadata": {},
     "output_type": "execute_result"
    }
   ],
   "source": [
    "df['AdrBal1in100MCnt'].describe()"
   ]
  },
  {
   "cell_type": "code",
   "execution_count": 32,
   "id": "ff39d7c4",
   "metadata": {},
   "outputs": [
    {
     "data": {
      "image/png": "[encoded data removed]",
      "text/plain": [
       "<Figure size 432x288 with 1 Axes>"
      ]
     },
     "metadata": {
      "needs_background": "light"
     },
     "output_type": "display_data"
    }
   ],
   "source": [
    "x = df['AdrBal1in100MCnt']\n",
    "y = df['time']\n",
    "plt.plot(y, x)\n",
    "\n",
    "plt.show() "
   ]
  },
  {
   "cell_type": "markdown",
   "id": "ed21ecdf",
   "metadata": {},
   "source": [
    "On peut voir que le nombre d'adresse AdrBal1in100MCnt augmente avec le temps. Cela nous montre qu'il y a une diversification de plus en plus forte des détenteurs du bitcoin. Ainsi on peut en conclure que le nombre d'utilisateur augmente. Ces résultats sont cohérents avec l'augmentation du nombre d'utilisateurs et de possésseurs de bitcoin. Dans les analyses suivantes on va pouvoir voir cette tendance se confirmer avec un nombre d'adresse unique de plus en plus important a mesure que l'on considere des adresses moins riche de bitcoin."
   ]
  },
  {
   "cell_type": "code",
   "execution_count": null,
   "id": "d4905f7a",
   "metadata": {},
   "outputs": [],
   "source": [
    "Variable 4  AdrBal1in10BCnt\n",
    "Les adresses, avec solde, supérieures à 1 sur 10 milliards, comptent\n",
    "Le calcul utilise une comparaison supérieure ou égale : posséder exactement 1 milliardième de \n",
    "l'offre actuelle qualifie une adresse pour AdrBal1in1BCnt"
   ]
  },
  {
   "cell_type": "code",
   "execution_count": 56,
   "id": "a7fb8aa2",
   "metadata": {},
   "outputs": [
    {
     "data": {
      "text/plain": [
       "count    4.838000e+03\n",
       "mean     5.422291e+06\n",
       "std      5.742992e+06\n",
       "min      0.000000e+00\n",
       "25%      3.392305e+05\n",
       "50%      2.427956e+06\n",
       "75%      1.045413e+07\n",
       "max      1.688602e+07\n",
       "Name: AdrBal1in10BCnt, dtype: float64"
      ]
     },
     "execution_count": 56,
     "metadata": {},
     "output_type": "execute_result"
    }
   ],
   "source": [
    "df['AdrBal1in10BCnt'].describe()"
   ]
  },
  {
   "cell_type": "code",
   "execution_count": 34,
   "id": "6450b1cc",
   "metadata": {},
   "outputs": [
    {
     "data": {
      "image/png": "[encoded data removed]",
      "text/plain": [
       "<Figure size 432x288 with 1 Axes>"
      ]
     },
     "metadata": {
      "needs_background": "light"
     },
     "output_type": "display_data"
    }
   ],
   "source": [
    "x = df['AdrBal1in10BCnt']\n",
    "y = df['time']\n",
    "plt.plot(y, x)\n",
    "\n",
    "plt.show() "
   ]
  },
  {
   "cell_type": "markdown",
   "id": "214ffe92",
   "metadata": {},
   "source": [
    "On peut voir que le nombre d'adresse AdrBal1in10BCnt augmente avec le temps. \n",
    "Cela nous montre qu'il y a une diversification de plus en plus forte des détenteurs du bitcoin. Ainsi on peut en conclure que le nombre d'utilisateur augmente. Ces résultats sont cohérents avec l'augmentation du nombre d'utilisateurs et de possésseurs de bitcoin. Dans les analyses suivantes on va pouvoir voir cette tendance se confirmer avec un nombre d'adresse unique de plus en plus important a mesure que \n",
    "l'on considere des adresses moins riche de bitcoin."
   ]
  },
  {
   "cell_type": "code",
   "execution_count": null,
   "id": "721f68a5",
   "metadata": {},
   "outputs": [],
   "source": [
    "Variable 5    AdrBal1in10KCnt\n",
    "Les adresses unique, avec solde, supérieures à 1 sur 10 000, comptent\n"
   ]
  },
  {
   "cell_type": "code",
   "execution_count": 59,
   "id": "43e30811",
   "metadata": {},
   "outputs": [
    {
     "data": {
      "text/plain": [
       "count    4838.000000\n",
       "mean      901.534105\n",
       "std       707.323082\n",
       "min         0.000000\n",
       "25%       864.000000\n",
       "50%       932.000000\n",
       "75%       992.000000\n",
       "max      9424.000000\n",
       "Name: AdrBal1in10KCnt, dtype: float64"
      ]
     },
     "execution_count": 59,
     "metadata": {},
     "output_type": "execute_result"
    }
   ],
   "source": [
    "df['AdrBal1in10KCnt'].describe()"
   ]
  },
  {
   "cell_type": "code",
   "execution_count": 35,
   "id": "a294ad06",
   "metadata": {},
   "outputs": [
    {
     "data": {
      "image/png": "[encoded data removed]",
      "text/plain": [
       "<Figure size 432x288 with 1 Axes>"
      ]
     },
     "metadata": {
      "needs_background": "light"
     },
     "output_type": "display_data"
    }
   ],
   "source": [
    "x = df['AdrBal1in10KCnt']\n",
    "y = df['time']\n",
    "plt.plot(y, x)\n",
    "\n",
    "plt.show() \n"
   ]
  },
  {
   "cell_type": "markdown",
   "id": "2b37088f",
   "metadata": {},
   "source": [
    "Le nombre d'adresses unique reste ayant une valeur de supérieur ou égale a 1/ 10 000 sont plutôt stable aux alentour de 10 000 \n",
    "depuis 2012. Ainsi on peut voir que certains possésseurs d'adresses unique concentre une grande possession des parts du bitcoin.\n",
    "Le nombre inchangé d'adresse unique montre que certains utilisateurs ne revendent pas leur part de bitcoin et le laisse dormir pour qu'il prenne de la valeur."
   ]
  },
  {
   "cell_type": "code",
   "execution_count": null,
   "id": "62595d0f",
   "metadata": {},
   "outputs": [],
   "source": [
    "Variable 6\n",
    "Les adresses, avec solde, supérieures à 1 sur 10 millions, comptent"
   ]
  },
  {
   "cell_type": "code",
   "execution_count": 60,
   "id": "50191d29",
   "metadata": {},
   "outputs": [
    {
     "data": {
      "text/plain": [
       "count      4838.000000\n",
       "mean     283304.858826\n",
       "std      168215.649151\n",
       "min           0.000000\n",
       "25%      133725.500000\n",
       "50%      297258.500000\n",
       "75%      452875.250000\n",
       "max      494343.000000\n",
       "Name: AdrBal1in10MCnt, dtype: float64"
      ]
     },
     "execution_count": 60,
     "metadata": {},
     "output_type": "execute_result"
    }
   ],
   "source": [
    "df['AdrBal1in10MCnt'].describe()"
   ]
  },
  {
   "cell_type": "code",
   "execution_count": 36,
   "id": "506aeae7",
   "metadata": {},
   "outputs": [
    {
     "data": {
      "image/png": "[encoded data removed]",
      "text/plain": [
       "<Figure size 432x288 with 1 Axes>"
      ]
     },
     "metadata": {
      "needs_background": "light"
     },
     "output_type": "display_data"
    }
   ],
   "source": [
    "x = df['AdrBal1in10MCnt']\n",
    "y = df['time']\n",
    "plt.plot(y, x)\n",
    "\n",
    "plt.show() \n"
   ]
  },
  {
   "cell_type": "markdown",
   "id": "1ac64c4b",
   "metadata": {},
   "source": [
    "On peut voir que le nombre d'adresse AdrBal1in10MCnt augmente avec le temps. \n",
    "Cela nous montre qu'il y a une diversification de plus en plus forte des détenteurs du bitcoin. Ainsi on peut en conclure que le nombre d'utilisateur augmente. Ces résultats sont cohérents avec l'augmentation du nombre d'utilisateurs et de possésseurs de bitcoin. Dans les analyses suivantes on va pouvoir voir cette tendance se confirmer avec un nombre d'adresse unique de plus en plus important a mesure que l'on considere des adresses moins riche de bitcoin."
   ]
  },
  {
   "cell_type": "code",
   "execution_count": null,
   "id": "01f997b1",
   "metadata": {},
   "outputs": [],
   "source": [
    "Variable 7  AdrBal1in1BCnt\n",
    "Les adresses, avec solde, supérieures à 1 sur 1 milliard, comptent"
   ]
  },
  {
   "cell_type": "code",
   "execution_count": null,
   "id": "737c2223",
   "metadata": {},
   "outputs": [],
   "source": [
    "df['AdrBal1in1BCnt'].describe()"
   ]
  },
  {
   "cell_type": "code",
   "execution_count": 38,
   "id": "9e70494f",
   "metadata": {
    "scrolled": true
   },
   "outputs": [
    {
     "data": {
      "image/png": "[encoded data removed]",
      "text/plain": [
       "<Figure size 432x288 with 1 Axes>"
      ]
     },
     "metadata": {
      "needs_background": "light"
     },
     "output_type": "display_data"
    }
   ],
   "source": [
    "x = df['AdrBal1in1BCnt']\n",
    "y = df['time']\n",
    "plt.plot(y, x)\n",
    "\n",
    "plt.show() "
   ]
  },
  {
   "cell_type": "markdown",
   "id": "54a523e2",
   "metadata": {},
   "source": [
    "On peut voir que le nombre d'adresse AdrBal1in1BCnt augmente avec le temps. \n",
    "Cela nous montre qu'il y a une diversification de plus en plus forte des détenteurs du bitcoin. Ainsi on peut en conclure que le nombre d'utilisateur augmente. Ces résultats sont cohérents avec l'augmentation du nombre d'utilisateurs et de possésseurs de bitcoin. Dans les analyses suivantes on va pouvoir voir cette tendance se confirmer avec un nombre d'adresse unique de plus en plus important a mesure que l'on considere des adresses moins riche de bitcoin."
   ]
  },
  {
   "cell_type": "code",
   "execution_count": null,
   "id": "e262d1c4",
   "metadata": {},
   "outputs": [],
   "source": [
    "Variable 8 AdrBal1in1KCnt\n",
    "404\n",
    "Internet s'arrête ici."
   ]
  },
  {
   "cell_type": "code",
   "execution_count": 39,
   "id": "abc5db21",
   "metadata": {},
   "outputs": [
    {
     "data": {
      "text/plain": [
       "count    4838.000000\n",
       "mean       56.846217\n",
       "std        32.122748\n",
       "min         0.000000\n",
       "25%        44.000000\n",
       "50%        60.000000\n",
       "75%        66.000000\n",
       "max       958.000000\n",
       "Name: AdrBal1in1KCnt, dtype: float64"
      ]
     },
     "execution_count": 39,
     "metadata": {},
     "output_type": "execute_result"
    }
   ],
   "source": [
    "df['AdrBal1in1KCnt'].describe()"
   ]
  },
  {
   "cell_type": "code",
   "execution_count": 40,
   "id": "28258ea2",
   "metadata": {},
   "outputs": [
    {
     "data": {
      "image/png": "[encoded data removed]",
      "text/plain": [
       "<Figure size 432x288 with 1 Axes>"
      ]
     },
     "metadata": {
      "needs_background": "light"
     },
     "output_type": "display_data"
    }
   ],
   "source": [
    "x = df['AdrBal1in1KCnt']\n",
    "y = df['time']\n",
    "plt.plot(y, x)\n",
    "\n",
    "plt.show() "
   ]
  },
  {
   "cell_type": "code",
   "execution_count": null,
   "id": "4055d7c9",
   "metadata": {},
   "outputs": [],
   "source": [
    "Variable 9  *********\n",
    "Les adresses, avec solde, supérieures à 1 sur 1 million, comptent"
   ]
  },
  {
   "cell_type": "code",
   "execution_count": 41,
   "id": "0261f0e2",
   "metadata": {},
   "outputs": [
    {
     "data": {
      "text/plain": [
       "count      4838.000000\n",
       "mean      86781.182513\n",
       "std       27390.161995\n",
       "min           0.000000\n",
       "25%       78292.000000\n",
       "50%       99626.000000\n",
       "75%      105852.250000\n",
       "max      112006.000000\n",
       "Name: AdrBal1in1MCnt, dtype: float64"
      ]
     },
     "execution_count": 41,
     "metadata": {},
     "output_type": "execute_result"
    }
   ],
   "source": [
    "df['AdrBal1in1MCnt'].describe()"
   ]
  },
  {
   "cell_type": "code",
   "execution_count": 42,
   "id": "8a4fa556",
   "metadata": {},
   "outputs": [
    {
     "data": {
      "image/png": "[encoded data removed]",
      "text/plain": [
       "<Figure size 432x288 with 1 Axes>"
      ]
     },
     "metadata": {
      "needs_background": "light"
     },
     "output_type": "display_data"
    }
   ],
   "source": [
    "x = df['AdrBal1in1MCnt']\n",
    "y = df['time']\n",
    "plt.plot(y, x)\n",
    "\n",
    "plt.show() "
   ]
  },
  {
   "cell_type": "markdown",
   "id": "750259d3",
   "metadata": {},
   "source": [
    "On peut voir que le nombre d'adresse AdrBal1in1BCnt augmente avec le temps. \n",
    "Cela nous montre qu'il y a une diversification de plus en plus forte des détenteurs du bitcoin. \n",
    "Le nombre d'adresse unique augmente jusqu'a fin 2017 avant de perdre progressivement 10% jusqu'en 2022 \n",
    "Ici il est important de noter que le nombre d'adresse unique ayant un solde supérieur a 1 / 1 million a fortement augmenter entre 2012 et 2017, cependant ce nombre commence a baiser et peut être interprété par un nombre d'utilisateur plus important qui possede des adresses unique de plus faible valeur."
   ]
  },
  {
   "cell_type": "markdown",
   "id": "f2853d9a",
   "metadata": {},
   "source": [
    "Variable 10\n",
    "Les adresses, tout solde, comptent\n",
    "Le nombre total d'adresses uniques contenant n'importe quelle quantité d'unités natives à la fin de la journée. Seules les unités natives sont prises en compte cad les unités qui existaient au début de la journée."
   ]
  },
  {
   "cell_type": "code",
   "execution_count": 43,
   "id": "0325f575",
   "metadata": {},
   "outputs": [
    {
     "data": {
      "text/plain": [
       "count    4.838000e+03\n",
       "mean     1.253120e+07\n",
       "std      1.336632e+07\n",
       "min      0.000000e+00\n",
       "25%      6.405790e+05\n",
       "50%      5.502794e+06\n",
       "75%      2.336088e+07\n",
       "max      4.136231e+07\n",
       "Name: AdrBalCnt, dtype: float64"
      ]
     },
     "execution_count": 43,
     "metadata": {},
     "output_type": "execute_result"
    }
   ],
   "source": [
    "df['AdrBalCnt'].describe()"
   ]
  },
  {
   "cell_type": "code",
   "execution_count": 44,
   "id": "c500e1b5",
   "metadata": {},
   "outputs": [
    {
     "data": {
      "image/png": "[encoded data removed]",
      "text/plain": [
       "<Figure size 432x288 with 1 Axes>"
      ]
     },
     "metadata": {
      "needs_background": "light"
     },
     "output_type": "display_data"
    }
   ],
   "source": [
    "x = df['AdrBalCnt']\n",
    "y = df['time']\n",
    "plt.plot(y, x)\n",
    "\n",
    "plt.show() "
   ]
  },
  {
   "cell_type": "markdown",
   "id": "9c0588a2",
   "metadata": {},
   "source": [
    "Le nombre d'adresse unique augmente rapidement de 2014 a 2018 avant de connaître une régréssion de 30% en seulement 1 mois. Le nombre d'adresse unique augmentera de nouveau en 2019 et reprendra sa vitesse de progression qu'il avait connu de 2014 a 2017 jusqu'en 2022."
   ]
  },
  {
   "cell_type": "markdown",
   "id": "a7364d61",
   "metadata": {},
   "source": [
    "Variable 11\n",
    "Les adresses, avec solde, supérieures à 0,001 unité native, comptent\n",
    "Le calcul utilise une comparaison supérieure ou égale : posséder exactement 1 unité native qualifie une adresse pour AdrBalNtv1Cnt"
   ]
  },
  {
   "cell_type": "code",
   "execution_count": 45,
   "id": "b58732fc",
   "metadata": {},
   "outputs": [
    {
     "data": {
      "text/plain": [
       "count    4.838000e+03\n",
       "mean     6.180731e+06\n",
       "std      6.669014e+06\n",
       "min      0.000000e+00\n",
       "25%      3.390235e+05\n",
       "50%      2.627457e+06\n",
       "75%      1.177566e+07\n",
       "max      1.996526e+07\n",
       "Name: AdrBalNtv0.001Cnt, dtype: float64"
      ]
     },
     "execution_count": 45,
     "metadata": {},
     "output_type": "execute_result"
    }
   ],
   "source": [
    "df['AdrBalNtv0.001Cnt'].describe()"
   ]
  },
  {
   "cell_type": "code",
   "execution_count": 46,
   "id": "bbb20423",
   "metadata": {},
   "outputs": [
    {
     "data": {
      "image/png": "[encoded data removed]",
      "text/plain": [
       "<Figure size 432x288 with 1 Axes>"
      ]
     },
     "metadata": {
      "needs_background": "light"
     },
     "output_type": "display_data"
    }
   ],
   "source": [
    "x = df['AdrBalNtv0.001Cnt']\n",
    "y = df['time']\n",
    "plt.plot(y, x)\n",
    "\n",
    "plt.show() "
   ]
  },
  {
   "cell_type": "markdown",
   "id": "8d5650be",
   "metadata": {},
   "source": [
    "Le nombre d'adresse unique augmente rapidement de 2014 a 2018 avant de connaître une régréssion de 30% en seulement 1 mois. Le nombre d'adresse unique augmentera de nouveau en 2019 et reprendra sa vitesse de progression qu'il avait connu de 2014 a 2017 jusqu'en 2022. \n",
    "Il y a 2 fois moins d'adresse unique dans cette catégorie que si on les avaient toute compter"
   ]
  },
  {
   "cell_type": "markdown",
   "id": "e90ad082",
   "metadata": {},
   "source": [
    "Variable 12\n",
    "Les adresses, avec solde, supérieures à 0,01 unité native, comptent\n",
    "Le calcul utilise une comparaison supérieure ou égale : posséder exactement 1 unité native qualifie une adresse pour AdrBalNtv1Cnt"
   ]
  },
  {
   "cell_type": "code",
   "execution_count": 47,
   "id": "dcfbd0a9",
   "metadata": {},
   "outputs": [
    {
     "data": {
      "text/plain": [
       "count    4.838000e+03\n",
       "mean     3.376864e+06\n",
       "std      3.375283e+06\n",
       "min      0.000000e+00\n",
       "25%      2.882205e+05\n",
       "50%      1.711183e+06\n",
       "75%      6.593054e+06\n",
       "max      9.755533e+06\n",
       "Name: AdrBalNtv0.01Cnt, dtype: float64"
      ]
     },
     "execution_count": 47,
     "metadata": {},
     "output_type": "execute_result"
    }
   ],
   "source": [
    "df['AdrBalNtv0.01Cnt'].describe()"
   ]
  },
  {
   "cell_type": "code",
   "execution_count": 48,
   "id": "a0c48a4a",
   "metadata": {},
   "outputs": [
    {
     "data": {
      "image/png": "[encoded data removed]",
      "text/plain": [
       "<Figure size 432x288 with 1 Axes>"
      ]
     },
     "metadata": {
      "needs_background": "light"
     },
     "output_type": "display_data"
    }
   ],
   "source": [
    "x = df['AdrBalNtv0.01Cnt']\n",
    "y = df['time']\n",
    "plt.plot(y, x)\n",
    "\n",
    "plt.show() "
   ]
  },
  {
   "cell_type": "markdown",
   "id": "f14a02bc",
   "metadata": {},
   "source": [
    "Le nombre d'adresse unique augmente rapidement de 2014 a 2018 avant de connaître une régréssion de 30% en seulement 1 mois. Le nombre d'adresse unique augmentera de nouveau en 2019 et reprendra sa vitesse de progression qu'il avait connu de 2014 a 2017 jusqu'en 2022. \n",
    "Il y a 4 fois moins d'adresse unique dans cette catégorie que si on les avaient toute compter"
   ]
  },
  {
   "cell_type": "markdown",
   "id": "74966534",
   "metadata": {},
   "source": [
    "Variable 13\n",
    "404\n",
    "Internet s'arrête ici."
   ]
  },
  {
   "cell_type": "code",
   "execution_count": 50,
   "id": "027bfe7f",
   "metadata": {},
   "outputs": [
    {
     "data": {
      "text/plain": [
       "count    4.838000e+03\n",
       "mean     1.318088e+06\n",
       "std      1.196250e+06\n",
       "min      0.000000e+00\n",
       "25%      1.762460e+05\n",
       "50%      8.288285e+05\n",
       "75%      2.530693e+06\n",
       "max      3.412291e+06\n",
       "Name: AdrBalNtv0.1Cnt, dtype: float64"
      ]
     },
     "execution_count": 50,
     "metadata": {},
     "output_type": "execute_result"
    }
   ],
   "source": [
    "df['AdrBalNtv0.1Cnt'].describe()"
   ]
  },
  {
   "cell_type": "code",
   "execution_count": 49,
   "id": "2f8a5bfe",
   "metadata": {},
   "outputs": [
    {
     "data": {
      "image/png": "[encoded data removed]",
      "text/plain": [
       "<Figure size 432x288 with 1 Axes>"
      ]
     },
     "metadata": {
      "needs_background": "light"
     },
     "output_type": "display_data"
    }
   ],
   "source": [
    "x = df['AdrBalNtv0.1Cnt']\n",
    "y = df['time']\n",
    "plt.plot(y, x)\n",
    "\n",
    "plt.show() "
   ]
  },
  {
   "cell_type": "code",
   "execution_count": null,
   "id": "3dc40944",
   "metadata": {},
   "outputs": [],
   "source": [
    "Variable 14\n",
    "Les adresses, avec solde, supérieures à 100 unités natives, comptent"
   ]
  },
  {
   "cell_type": "code",
   "execution_count": 51,
   "id": "1d6f2b01",
   "metadata": {},
   "outputs": [
    {
     "data": {
      "text/plain": [
       "count     4838.000000\n",
       "mean     12141.139934\n",
       "std       6381.305267\n",
       "min          0.000000\n",
       "25%       8045.500000\n",
       "50%      16002.500000\n",
       "75%      16544.750000\n",
       "max      18541.000000\n",
       "Name: AdrBalNtv100Cnt, dtype: float64"
      ]
     },
     "execution_count": 51,
     "metadata": {},
     "output_type": "execute_result"
    }
   ],
   "source": [
    "df['AdrBalNtv100Cnt'].describe()"
   ]
  },
  {
   "cell_type": "code",
   "execution_count": 52,
   "id": "beb1d37a",
   "metadata": {},
   "outputs": [
    {
     "data": {
      "image/png": "[encoded data removed]",
      "text/plain": [
       "<Figure size 432x288 with 1 Axes>"
      ]
     },
     "metadata": {
      "needs_background": "light"
     },
     "output_type": "display_data"
    }
   ],
   "source": [
    "x = df['AdrBalNtv100Cnt']\n",
    "y = df['time']\n",
    "plt.plot(y, x)\n",
    "\n",
    "plt.show() "
   ]
  },
  {
   "cell_type": "code",
   "execution_count": null,
   "id": "78c4fe2c",
   "metadata": {},
   "outputs": [],
   "source": [
    "Variable 15   ********\n",
    "Les adresses, avec solde, supérieures à 100 000 unités natives, comptent"
   ]
  },
  {
   "cell_type": "code",
   "execution_count": 53,
   "id": "07463617",
   "metadata": {},
   "outputs": [
    {
     "data": {
      "text/plain": [
       "count    4838.000000\n",
       "mean        1.997726\n",
       "std         1.314113\n",
       "min         0.000000\n",
       "25%         1.000000\n",
       "50%         2.000000\n",
       "75%         3.000000\n",
       "max         6.000000\n",
       "Name: AdrBalNtv100KCnt, dtype: float64"
      ]
     },
     "execution_count": 53,
     "metadata": {},
     "output_type": "execute_result"
    }
   ],
   "source": [
    "df['AdrBalNtv100KCnt'].describe()"
   ]
  },
  {
   "cell_type": "code",
   "execution_count": 54,
   "id": "000ccf9e",
   "metadata": {},
   "outputs": [
    {
     "data": {
      "image/png": "[encoded data removed]",
      "text/plain": [
       "<Figure size 432x288 with 1 Axes>"
      ]
     },
     "metadata": {
      "needs_background": "light"
     },
     "output_type": "display_data"
    }
   ],
   "source": [
    "x = df['AdrBalNtv100KCnt']\n",
    "y = df['time']\n",
    "plt.plot(y, x)\n",
    "\n",
    "plt.show() "
   ]
  },
  {
   "cell_type": "markdown",
   "id": "a902e9dc",
   "metadata": {},
   "source": [
    "Le nombre d'adresses ayant 100 000 unités natives fluctuent tres grandement d'un jour a l'autre. La dispersion est ici tres grande pour ce nombre d'adresse. On peut en conclure que les adresses ayant 100 000 unites font beaucoup d'échange. Ce sont ces adresses la qui sont le plus volatile."
   ]
  },
  {
   "cell_type": "code",
   "execution_count": null,
   "id": "79a03a7f",
   "metadata": {},
   "outputs": [],
   "source": [
    "Variable 16\n",
    "Les adresses, avec solde, supérieures à 10 unités natives, comptent"
   ]
  },
  {
   "cell_type": "code",
   "execution_count": 55,
   "id": "365eb34e",
   "metadata": {},
   "outputs": [
    {
     "data": {
      "text/plain": [
       "count      4838.000000\n",
       "mean     110755.058495\n",
       "std       44695.220163\n",
       "min           0.000000\n",
       "25%       77045.250000\n",
       "50%      128211.000000\n",
       "75%      148950.500000\n",
       "max      157273.000000\n",
       "Name: AdrBalNtv10Cnt, dtype: float64"
      ]
     },
     "execution_count": 55,
     "metadata": {},
     "output_type": "execute_result"
    }
   ],
   "source": [
    "df['AdrBalNtv10Cnt'].describe()"
   ]
  },
  {
   "cell_type": "code",
   "execution_count": 56,
   "id": "821c978e",
   "metadata": {},
   "outputs": [
    {
     "data": {
      "image/png": "[encoded data removed]",
      "text/plain": [
       "<Figure size 432x288 with 1 Axes>"
      ]
     },
     "metadata": {
      "needs_background": "light"
     },
     "output_type": "display_data"
    }
   ],
   "source": [
    "x = df['AdrBalNtv10Cnt']\n",
    "y = df['time']\n",
    "plt.plot(y, x)\n",
    "\n",
    "plt.show() "
   ]
  },
  {
   "cell_type": "markdown",
   "id": "d5535886",
   "metadata": {},
   "source": [
    "Le nombre d'adresse native ayant 10 unités supérieur ou plus native suivent une courbe croissante. Leur nombre est bien plus limité a raison de 160 000 unités contre 10*7 nombres d'adresses en tout. Leur nombre est constant depuis 2018 et ne fluctuent que légerement."
   ]
  },
  {
   "cell_type": "code",
   "execution_count": null,
   "id": "2755414b",
   "metadata": {},
   "outputs": [],
   "source": [
    "Variable 17\n",
    "Les adresses, avec solde, supérieures à 10 000 unités natives, comptent"
   ]
  },
  {
   "cell_type": "code",
   "execution_count": 57,
   "id": "7fa80bed",
   "metadata": {},
   "outputs": [
    {
     "data": {
      "text/plain": [
       "count    4838.000000\n",
       "mean       85.569037\n",
       "std        35.029319\n",
       "min         0.000000\n",
       "25%        74.000000\n",
       "50%        99.000000\n",
       "75%       109.000000\n",
       "max       126.000000\n",
       "Name: AdrBalNtv10KCnt, dtype: float64"
      ]
     },
     "execution_count": 57,
     "metadata": {},
     "output_type": "execute_result"
    }
   ],
   "source": [
    "df['AdrBalNtv10KCnt'].describe()"
   ]
  },
  {
   "cell_type": "code",
   "execution_count": 58,
   "id": "727037bd",
   "metadata": {},
   "outputs": [
    {
     "data": {
      "image/png": "[encoded data removed]",
      "text/plain": [
       "<Figure size 432x288 with 1 Axes>"
      ]
     },
     "metadata": {
      "needs_background": "light"
     },
     "output_type": "display_data"
    }
   ],
   "source": [
    "x = df['AdrBalNtv10KCnt']\n",
    "y = df['time']\n",
    "plt.plot(y, x)\n",
    "\n",
    "plt.show() "
   ]
  },
  {
   "cell_type": "markdown",
   "id": "15456c11",
   "metadata": {},
   "source": [
    "Nombre d'adresses extremement limité on voit ici les adresses les plus grosse rescencé. Leur nombre a connu une croissance globale depuis 2010. La progression de cette courbe se fait en dent de scie, Chaque pic est suivie d'une période de régression avant de connaître une nouvelle augmentation. Toutefois en 2019 on voit une tres net coupure passant de 125 adresse a seulement 90 en 1 mois seulement ce qui constitue une baisse de 30 %. Cette baisse peut être du a la crise du covid. Depuis cette date le nombre d'adresse continue de rester en dessous de son pic de 2018 et continue de baisser. "
   ]
  },
  {
   "cell_type": "code",
   "execution_count": null,
   "id": "3357588c",
   "metadata": {},
   "outputs": [],
   "source": [
    "Variable 18\n",
    "Les adresses, avec solde, supérieures à 1 unités natives, comptent\n",
    "Définition"
   ]
  },
  {
   "cell_type": "code",
   "execution_count": 59,
   "id": "3d4f8298",
   "metadata": {},
   "outputs": [
    {
     "data": {
      "text/plain": [
       "count      4838.000000\n",
       "mean     422283.755891\n",
       "std      293320.588245\n",
       "min           0.000000\n",
       "25%      131866.250000\n",
       "50%      396895.500000\n",
       "75%      721244.250000\n",
       "max      831372.000000\n",
       "Name: AdrBalNtv1Cnt, dtype: float64"
      ]
     },
     "execution_count": 59,
     "metadata": {},
     "output_type": "execute_result"
    }
   ],
   "source": [
    "df['AdrBalNtv1Cnt'].describe()"
   ]
  },
  {
   "cell_type": "code",
   "execution_count": 60,
   "id": "8cd01aa6",
   "metadata": {},
   "outputs": [
    {
     "data": {
      "image/png": "[encoded data removed]",
      "text/plain": [
       "<Figure size 432x288 with 1 Axes>"
      ]
     },
     "metadata": {
      "needs_background": "light"
     },
     "output_type": "display_data"
    }
   ],
   "source": [
    "x = df['AdrBalNtv1Cnt']\n",
    "y = df['time']\n",
    "plt.plot(y, x)\n",
    "\n",
    "plt.show() "
   ]
  },
  {
   "cell_type": "code",
   "execution_count": null,
   "id": "d178ff55",
   "metadata": {},
   "outputs": [],
   "source": [
    "Forte augmentation sans jamais stagne"
   ]
  },
  {
   "cell_type": "code",
   "execution_count": null,
   "id": "e914cb0d",
   "metadata": {},
   "outputs": [],
   "source": [
    "Variable 19\n",
    "Les adresses, avec solde, supérieures à 1 000 $ comptent"
   ]
  },
  {
   "cell_type": "code",
   "execution_count": 61,
   "id": "38949641",
   "metadata": {},
   "outputs": [
    {
     "data": {
      "text/plain": [
       "count    4838.000000\n",
       "mean     1399.904919\n",
       "std       713.888097\n",
       "min         0.000000\n",
       "25%       902.500000\n",
       "50%      1651.000000\n",
       "75%      1881.000000\n",
       "max      2490.000000\n",
       "Name: AdrBalNtv1KCnt, dtype: float64"
      ]
     },
     "execution_count": 61,
     "metadata": {},
     "output_type": "execute_result"
    }
   ],
   "source": [
    "df['AdrBalNtv1KCnt'].describe()"
   ]
  },
  {
   "cell_type": "code",
   "execution_count": 62,
   "id": "72eeceec",
   "metadata": {},
   "outputs": [
    {
     "data": {
      "image/png": "[encoded data removed]",
      "text/plain": [
       "<Figure size 432x288 with 1 Axes>"
      ]
     },
     "metadata": {
      "needs_background": "light"
     },
     "output_type": "display_data"
    }
   ],
   "source": [
    "x = df['AdrBalNtv1KCnt']\n",
    "y = df['time']\n",
    "plt.plot(y, x)\n",
    "\n",
    "plt.show() "
   ]
  },
  {
   "cell_type": "markdown",
   "id": "7adc7553",
   "metadata": {},
   "source": [
    "Nombre d'adresse avec 1000 dollar en tres rapide augmentation les 4 premieres annees a savoir de 2010 a 2014. Elle seront ensuite concentré entre 1500 et 2000 jusqu'en 2019 ou la progression de la courbe augmente a nouveau pour se situer entre 2000 et 2500 de 2020  a 2022."
   ]
  },
  {
   "cell_type": "code",
   "execution_count": null,
   "id": "1c66b77b",
   "metadata": {},
   "outputs": [],
   "source": [
    "Variable 20\n",
    "404\n",
    "Internet s'arrête ici."
   ]
  },
  {
   "cell_type": "code",
   "execution_count": 63,
   "id": "96e96ed4",
   "metadata": {},
   "outputs": [
    {
     "data": {
      "text/plain": [
       "count    4838.0\n",
       "mean        0.0\n",
       "std         0.0\n",
       "min         0.0\n",
       "25%         0.0\n",
       "50%         0.0\n",
       "75%         0.0\n",
       "max         0.0\n",
       "Name: AdrBalNtv1MCnt, dtype: float64"
      ]
     },
     "execution_count": 63,
     "metadata": {},
     "output_type": "execute_result"
    }
   ],
   "source": [
    "df['AdrBalNtv1MCnt'].describe()"
   ]
  },
  {
   "cell_type": "code",
   "execution_count": 4,
   "id": "c1b1c847",
   "metadata": {},
   "outputs": [
    {
     "data": {
      "image/png": "[encoded data removed]",
      "text/plain": [
       "<Figure size 432x288 with 1 Axes>"
      ]
     },
     "metadata": {
      "needs_background": "light"
     },
     "output_type": "display_data"
    }
   ],
   "source": [
    "x = df['AdrBalNtv1MCnt']\n",
    "y = df['time']\n",
    "plt.plot(y, x)\n",
    "\n",
    "plt.show() "
   ]
  },
  {
   "cell_type": "code",
   "execution_count": null,
   "id": "00f32ec9",
   "metadata": {},
   "outputs": [],
   "source": [
    "Variable 21"
   ]
  },
  {
   "cell_type": "code",
   "execution_count": 7,
   "id": "0aa864ba",
   "metadata": {},
   "outputs": [
    {
     "data": {
      "text/plain": [
       "count    4.277000e+03\n",
       "mean     3.779199e+06\n",
       "std      4.860182e+06\n",
       "min      9.000000e+01\n",
       "25%      2.009270e+05\n",
       "50%      9.426540e+05\n",
       "75%      6.427240e+06\n",
       "max      1.700480e+07\n",
       "Name: AdrBalUSD100Cnt, dtype: float64"
      ]
     },
     "execution_count": 7,
     "metadata": {},
     "output_type": "execute_result"
    }
   ],
   "source": [
    "df['AdrBalUSD100Cnt'].describe()"
   ]
  },
  {
   "cell_type": "code",
   "execution_count": 6,
   "id": "75c65979",
   "metadata": {},
   "outputs": [
    {
     "data": {
      "image/png": "[encoded data removed]",
      "text/plain": [
       "<Figure size 432x288 with 1 Axes>"
      ]
     },
     "metadata": {
      "needs_background": "light"
     },
     "output_type": "display_data"
    }
   ],
   "source": [
    "x = df['AdrBalUSD100Cnt']\n",
    "y = df['time']\n",
    "plt.plot(y, x)\n",
    "\n",
    "plt.show() "
   ]
  },
  {
   "cell_type": "code",
   "execution_count": null,
   "id": "ca2ceff2",
   "metadata": {},
   "outputs": [],
   "source": [
    "Variable 22\n",
    "Les adresses, avec solde, supérieures à 100 $, comptent"
   ]
  },
  {
   "cell_type": "code",
   "execution_count": 65,
   "id": "201cd77b",
   "metadata": {},
   "outputs": [
    {
     "data": {
      "text/plain": [
       "count    4.277000e+03\n",
       "mean     3.779199e+06\n",
       "std      4.860182e+06\n",
       "min      9.000000e+01\n",
       "25%      2.009270e+05\n",
       "50%      9.426540e+05\n",
       "75%      6.427240e+06\n",
       "max      1.700480e+07\n",
       "Name: AdrBalUSD100Cnt, dtype: float64"
      ]
     },
     "execution_count": 65,
     "metadata": {},
     "output_type": "execute_result"
    }
   ],
   "source": [
    "df['AdrBalUSD100Cnt'].describe()"
   ]
  },
  {
   "cell_type": "code",
   "execution_count": 66,
   "id": "bafca50c",
   "metadata": {},
   "outputs": [
    {
     "data": {
      "image/png": "[encoded data removed]",
      "text/plain": [
       "<Figure size 432x288 with 1 Axes>"
      ]
     },
     "metadata": {
      "needs_background": "light"
     },
     "output_type": "display_data"
    }
   ],
   "source": [
    "x = df['AdrBalUSD100Cnt']\n",
    "y = df['time']\n",
    "plt.plot(y, x)\n",
    "\n",
    "plt.show() "
   ]
  },
  {
   "cell_type": "markdown",
   "id": "7c72f3d8",
   "metadata": {},
   "source": [
    "Tres forte variabilité des adresses possédant 100 dollars ou plus. Augmentation tres rapidement de 2017 a 2018. Puis enorme baisse en quelques mois seulement. En 2019 le nombre de ces adresses commencent a réaugmenté avant de connaître une croissance fugurante en milieu d'année 2020. Augmentation qui se poursuivra jusqu'en 2022."
   ]
  },
  {
   "cell_type": "code",
   "execution_count": null,
   "id": "21c522ef",
   "metadata": {},
   "outputs": [],
   "source": [
    "Variable 23\n",
    "Les adresses, avec solde, supérieures à 100 000 $ comptent"
   ]
  },
  {
   "cell_type": "code",
   "execution_count": 67,
   "id": "5c6be404",
   "metadata": {},
   "outputs": [
    {
     "data": {
      "text/plain": [
       "count      4277.000000\n",
       "mean      86103.169745\n",
       "std      128889.898053\n",
       "min           0.000000\n",
       "25%        1489.000000\n",
       "50%        8903.000000\n",
       "75%      126562.000000\n",
       "max      541661.000000\n",
       "Name: AdrBalUSD100KCnt, dtype: float64"
      ]
     },
     "execution_count": 67,
     "metadata": {},
     "output_type": "execute_result"
    }
   ],
   "source": [
    "df['AdrBalUSD100KCnt'].describe()"
   ]
  },
  {
   "cell_type": "code",
   "execution_count": 68,
   "id": "31c4a7f6",
   "metadata": {},
   "outputs": [
    {
     "data": {
      "image/png": "[encoded data removed]",
      "text/plain": [
       "<Figure size 432x288 with 1 Axes>"
      ]
     },
     "metadata": {
      "needs_background": "light"
     },
     "output_type": "display_data"
    }
   ],
   "source": [
    "x = df['AdrBalUSD100KCnt']\n",
    "y = df['time']\n",
    "plt.plot(y, x)\n",
    "\n",
    "plt.show() "
   ]
  },
  {
   "cell_type": "code",
   "execution_count": null,
   "id": "d2d849e1",
   "metadata": {},
   "outputs": [],
   "source": [
    "L'évolution du nombre d'adresse native de 100 000 dollar suit exactement la même évolution que celle des comptes a 100 dollar.\n",
    "Les baisses sont plus marqué que les adresses a 10 ou a 100 dollar"
   ]
  },
  {
   "cell_type": "code",
   "execution_count": null,
   "id": "d179db05",
   "metadata": {},
   "outputs": [],
   "source": [
    "Variable 24\n",
    "Les adresses, avec solde, supérieures à 10 $, comptent"
   ]
  },
  {
   "cell_type": "code",
   "execution_count": 69,
   "id": "5fa7d71f",
   "metadata": {},
   "outputs": [
    {
     "data": {
      "text/plain": [
       "count    4.277000e+03\n",
       "mean     6.898858e+06\n",
       "std      8.217565e+06\n",
       "min      3.560000e+02\n",
       "25%      3.252020e+05\n",
       "50%      1.942340e+06\n",
       "75%      1.247627e+07\n",
       "max      2.663489e+07\n",
       "Name: AdrBalUSD10Cnt, dtype: float64"
      ]
     },
     "execution_count": 69,
     "metadata": {},
     "output_type": "execute_result"
    }
   ],
   "source": [
    "df['AdrBalUSD10Cnt'].describe()"
   ]
  },
  {
   "cell_type": "code",
   "execution_count": 70,
   "id": "7bdadba5",
   "metadata": {},
   "outputs": [
    {
     "data": {
      "image/png": "[encoded data removed]",
      "text/plain": [
       "<Figure size 432x288 with 1 Axes>"
      ]
     },
     "metadata": {
      "needs_background": "light"
     },
     "output_type": "display_data"
    }
   ],
   "source": [
    "x = df['AdrBalUSD10Cnt']\n",
    "y = df['time']\n",
    "plt.plot(y, x)\n",
    "\n",
    "plt.show() "
   ]
  },
  {
   "cell_type": "code",
   "execution_count": null,
   "id": "06919677",
   "metadata": {},
   "outputs": [],
   "source": [
    "Suit les évolutions des comptent a 100 et a 100 000 dollar. Cependant les baisse sont plus légere sur ces adresses ci."
   ]
  },
  {
   "cell_type": "code",
   "execution_count": null,
   "id": "38b85edb",
   "metadata": {},
   "outputs": [],
   "source": [
    "Variable 25\n",
    "Les adresses, avec solde, supérieures à 10 000 $ comptent"
   ]
  },
  {
   "cell_type": "code",
   "execution_count": 71,
   "id": "6b41184c",
   "metadata": {},
   "outputs": [
    {
     "data": {
      "text/plain": [
       "count    4.277000e+03\n",
       "mean     4.306550e+05\n",
       "std      6.308843e+05\n",
       "min      0.000000e+00\n",
       "25%      1.204000e+04\n",
       "50%      9.882200e+04\n",
       "75%      5.622500e+05\n",
       "max      2.545246e+06\n",
       "Name: AdrBalUSD10KCnt, dtype: float64"
      ]
     },
     "execution_count": 71,
     "metadata": {},
     "output_type": "execute_result"
    }
   ],
   "source": [
    "df['AdrBalUSD10KCnt'].describe()"
   ]
  },
  {
   "cell_type": "code",
   "execution_count": 72,
   "id": "5cdacd42",
   "metadata": {},
   "outputs": [
    {
     "data": {
      "image/png": "[encoded data removed]",
      "text/plain": [
       "<Figure size 432x288 with 1 Axes>"
      ]
     },
     "metadata": {
      "needs_background": "light"
     },
     "output_type": "display_data"
    }
   ],
   "source": [
    "x = df['AdrBalUSD10KCnt']\n",
    "y = df['time']\n",
    "plt.plot(y, x)\n",
    "\n",
    "plt.show() "
   ]
  },
  {
   "cell_type": "markdown",
   "id": "32390bce",
   "metadata": {},
   "source": [
    "Même variation que les précédentes adresses de 10, 100 et 100 000 dollar"
   ]
  },
  {
   "cell_type": "code",
   "execution_count": null,
   "id": "3facfb55",
   "metadata": {},
   "outputs": [],
   "source": [
    "Variable 26\n",
    "404\n",
    "Internet s'arrête ici."
   ]
  },
  {
   "cell_type": "code",
   "execution_count": 73,
   "id": "8ebb2378",
   "metadata": {},
   "outputs": [
    {
     "data": {
      "text/plain": [
       "count     4277.000000\n",
       "mean      1311.696282\n",
       "std       2521.292062\n",
       "min          0.000000\n",
       "25%          1.000000\n",
       "50%         61.000000\n",
       "75%       1238.000000\n",
       "max      11076.000000\n",
       "Name: AdrBalUSD10MCnt, dtype: float64"
      ]
     },
     "execution_count": 73,
     "metadata": {},
     "output_type": "execute_result"
    }
   ],
   "source": [
    "df['AdrBalUSD10MCnt'].describe()"
   ]
  },
  {
   "cell_type": "code",
   "execution_count": 74,
   "id": "5a32b84b",
   "metadata": {},
   "outputs": [
    {
     "data": {
      "image/png": "[encoded data removed]",
      "text/plain": [
       "<Figure size 432x288 with 1 Axes>"
      ]
     },
     "metadata": {
      "needs_background": "light"
     },
     "output_type": "display_data"
    }
   ],
   "source": [
    "x = df['AdrBalUSD10MCnt']\n",
    "y = df['time']\n",
    "plt.plot(y, x)\n",
    "\n",
    "plt.show() "
   ]
  },
  {
   "cell_type": "code",
   "execution_count": null,
   "id": "69160315",
   "metadata": {},
   "outputs": [],
   "source": [
    "Variable 27\n",
    "Les adresses, avec solde, supérieures à 1 $, comptent"
   ]
  },
  {
   "cell_type": "code",
   "execution_count": 75,
   "id": "cd9ffc59",
   "metadata": {},
   "outputs": [
    {
     "data": {
      "text/plain": [
       "count    4.277000e+03\n",
       "mean     1.001093e+07\n",
       "std      1.125752e+07\n",
       "min      4.936900e+04\n",
       "25%      5.158570e+05\n",
       "50%      3.475453e+06\n",
       "75%      1.889302e+07\n",
       "max      3.586921e+07\n",
       "Name: AdrBalUSD1Cnt, dtype: float64"
      ]
     },
     "execution_count": 75,
     "metadata": {},
     "output_type": "execute_result"
    }
   ],
   "source": [
    "df['AdrBalUSD1Cnt'].describe()"
   ]
  },
  {
   "cell_type": "code",
   "execution_count": 76,
   "id": "ad18a20f",
   "metadata": {},
   "outputs": [
    {
     "data": {
      "image/png": "[encoded data removed]",
      "text/plain": [
       "<Figure size 432x288 with 1 Axes>"
      ]
     },
     "metadata": {
      "needs_background": "light"
     },
     "output_type": "display_data"
    }
   ],
   "source": [
    "x = df['AdrBalUSD1Cnt']\n",
    "y = df['time']\n",
    "plt.plot(y, x)\n",
    "\n",
    "plt.show() "
   ]
  },
  {
   "cell_type": "code",
   "execution_count": null,
   "id": "b67c27eb",
   "metadata": {},
   "outputs": [],
   "source": [
    "Variable 28\n",
    "Même variation et allure que les autres 10, 100, 1000 ... Toutefois plus le prix est faible et plus les variations sont faible "
   ]
  },
  {
   "cell_type": "code",
   "execution_count": 77,
   "id": "d780af17",
   "metadata": {},
   "outputs": [
    {
     "data": {
      "text/plain": [
       "count    4.277000e+03\n",
       "mean     1.479505e+06\n",
       "std      1.997355e+06\n",
       "min      1.300000e+01\n",
       "25%      9.443200e+04\n",
       "50%      2.975290e+05\n",
       "75%      2.331423e+06\n",
       "max      7.476670e+06\n",
       "Name: AdrBalUSD1KCnt, dtype: float64"
      ]
     },
     "execution_count": 77,
     "metadata": {},
     "output_type": "execute_result"
    }
   ],
   "source": [
    "df['AdrBalUSD1KCnt'].describe()"
   ]
  },
  {
   "cell_type": "code",
   "execution_count": 78,
   "id": "9a4dae43",
   "metadata": {},
   "outputs": [
    {
     "data": {
      "image/png": "[encoded data removed]",
      "text/plain": [
       "<Figure size 432x288 with 1 Axes>"
      ]
     },
     "metadata": {
      "needs_background": "light"
     },
     "output_type": "display_data"
    }
   ],
   "source": [
    "x = df['AdrBalUSD1KCnt']\n",
    "y = df['time']\n",
    "plt.plot(y, x)\n",
    "\n",
    "plt.show() "
   ]
  },
  {
   "cell_type": "code",
   "execution_count": null,
   "id": "f67a9c39",
   "metadata": {},
   "outputs": [],
   "source": [
    "Variable 29\n",
    "Les adresses, avec solde, supérieures à 1 million de dollars, comptent"
   ]
  },
  {
   "cell_type": "code",
   "execution_count": 79,
   "id": "fe790628",
   "metadata": {},
   "outputs": [
    {
     "data": {
      "text/plain": [
       "count      4277.000000\n",
       "mean      13934.100070\n",
       "std       27757.841906\n",
       "min           0.000000\n",
       "25%          99.000000\n",
       "50%         895.000000\n",
       "75%       11933.000000\n",
       "max      112815.000000\n",
       "Name: AdrBalUSD1MCnt, dtype: float64"
      ]
     },
     "execution_count": 79,
     "metadata": {},
     "output_type": "execute_result"
    }
   ],
   "source": [
    "df['AdrBalUSD1MCnt'].describe()"
   ]
  },
  {
   "cell_type": "code",
   "execution_count": 80,
   "id": "540a511f",
   "metadata": {},
   "outputs": [
    {
     "data": {
      "image/png": "[encoded data removed]",
      "text/plain": [
       "<Figure size 432x288 with 1 Axes>"
      ]
     },
     "metadata": {
      "needs_background": "light"
     },
     "output_type": "display_data"
    }
   ],
   "source": [
    "x = df['AdrBalUSD1MCnt']\n",
    "y = df['time']\n",
    "plt.plot(y, x)\n",
    "\n",
    "plt.show() "
   ]
  },
  {
   "cell_type": "code",
   "execution_count": null,
   "id": "b8b9a67f",
   "metadata": {},
   "outputs": [],
   "source": [
    "Même variation que les autres 1,10,100 ... Les variations sont plus prononcés plus les valeurs sont grande."
   ]
  },
  {
   "cell_type": "code",
   "execution_count": null,
   "id": "0474c0b1",
   "metadata": {},
   "outputs": [],
   "source": [
    "Variable 30 Heure des dernières métriques EOD entièrement calculées"
   ]
  },
  {
   "cell_type": "code",
   "execution_count": 81,
   "id": "1683cf12",
   "metadata": {},
   "outputs": [
    {
     "data": {
      "text/plain": [
       "count    4.838000e+03\n",
       "mean     1.615774e+09\n",
       "std      5.582570e+06\n",
       "min      1.614335e+09\n",
       "25%      1.614336e+09\n",
       "50%      1.614337e+09\n",
       "75%      1.614337e+09\n",
       "max      1.648964e+09\n",
       "Name: AssetEODCompletionTime, dtype: float64"
      ]
     },
     "execution_count": 81,
     "metadata": {},
     "output_type": "execute_result"
    }
   ],
   "source": [
    "df['AssetEODCompletionTime'].describe()"
   ]
  },
  {
   "cell_type": "code",
   "execution_count": 82,
   "id": "ff4cc5db",
   "metadata": {},
   "outputs": [
    {
     "data": {
      "image/png": "[encoded data removed]",
      "text/plain": [
       "<Figure size 432x288 with 1 Axes>"
      ]
     },
     "metadata": {
      "needs_background": "light"
     },
     "output_type": "display_data"
    }
   ],
   "source": [
    "x = df['AssetEODCompletionTime']\n",
    "y = df['time']\n",
    "plt.plot(y, x)\n",
    "\n",
    "plt.show() "
   ]
  },
  {
   "cell_type": "markdown",
   "id": "3707988e",
   "metadata": {},
   "source": [
    "Variable 31 Le nombre total de blocs créés ce jour-là qui ont été inclus dans la chaîne principale (de base).\n",
    "\n",
    "Le nombre de blocs est généralement plutôt statique, mais peut varier dans les blockchains qui reposent sur un processus de poisson pour trouver de nouveaux blocs. Dans les chaînes de preuve de travail avec de longues fenêtres d'ajustement de difficulté et une variation significative des temps de bloc, comme Bitcoin, le nombre de blocs peut s'écarter considérablement du taux attendu. Cela peut se produire lors de compétitions pour la puissance de hachage au moment des fourches, ou lorsqu'une quantité importante de puissance de hachage est ajoutée ou soustraite de la blockchain sur une courte période."
   ]
  },
  {
   "cell_type": "code",
   "execution_count": 83,
   "id": "2171bd2e",
   "metadata": {},
   "outputs": [
    {
     "data": {
      "text/plain": [
       "count    4838.000000\n",
       "mean      150.925382\n",
       "std        34.012731\n",
       "min         0.000000\n",
       "25%       138.000000\n",
       "50%       151.000000\n",
       "75%       165.000000\n",
       "max       692.000000\n",
       "Name: BlkCnt, dtype: float64"
      ]
     },
     "execution_count": 83,
     "metadata": {},
     "output_type": "execute_result"
    }
   ],
   "source": [
    "df['BlkCnt'].describe()"
   ]
  },
  {
   "cell_type": "code",
   "execution_count": 84,
   "id": "96d7a2e6",
   "metadata": {},
   "outputs": [
    {
     "data": {
      "image/png": "[encoded data removed]",
      "text/plain": [
       "<Figure size 432x288 with 1 Axes>"
      ]
     },
     "metadata": {
      "needs_background": "light"
     },
     "output_type": "display_data"
    }
   ],
   "source": [
    "x = df['BlkCnt']\n",
    "y = df['time']\n",
    "plt.plot(y, x)\n",
    "\n",
    "plt.show() "
   ]
  },
  {
   "cell_type": "code",
   "execution_count": null,
   "id": "2e6256e1",
   "metadata": {},
   "outputs": [],
   "source": [
    "Variable 35  BlkSizeMeanByte\n",
    "La taille moyenne (en octets) de tous les blocs créés ce jour-là."
   ]
  },
  {
   "cell_type": "code",
   "execution_count": 92,
   "id": "dda8661a",
   "metadata": {},
   "outputs": [
    {
     "data": {
      "text/plain": [
       "count    4.832000e+03\n",
       "mean     5.569425e+05\n",
       "std      4.820904e+05\n",
       "min      2.150000e+02\n",
       "25%      3.267031e+04\n",
       "50%      4.884694e+05\n",
       "75%      9.915223e+05\n",
       "max      1.523656e+06\n",
       "Name: BlkSizeMeanByte, dtype: float64"
      ]
     },
     "execution_count": 92,
     "metadata": {},
     "output_type": "execute_result"
    }
   ],
   "source": [
    "df['BlkSizeMeanByte'].describe()"
   ]
  },
  {
   "cell_type": "code",
   "execution_count": 93,
   "id": "4bffa044",
   "metadata": {},
   "outputs": [
    {
     "data": {
      "image/png": "[encoded data removed]",
      "text/plain": [
       "<Figure size 432x288 with 1 Axes>"
      ]
     },
     "metadata": {
      "needs_background": "light"
     },
     "output_type": "display_data"
    }
   ],
   "source": [
    "x = df['BlkSizeMeanByte']\n",
    "y = df['time']\n",
    "plt.plot(y, x)\n",
    "\n",
    "plt.show() "
   ]
  },
  {
   "cell_type": "markdown",
   "id": "7a165430",
   "metadata": {},
   "source": [
    "Les blocs sont de plus en plus grand en taille (octet)\n",
    "La taille moyenne des blocs est quelque peu arbitraire ; le nombre de blocs multiplié par la taille moyenne des blocs vous donne le débit total de données sur une blockchain par jour"
   ]
  },
  {
   "cell_type": "markdown",
   "id": "0a5a6cdc",
   "metadata": {},
   "source": [
    "Variable 40\n",
    "Le poids moyen de tous les blocs créés ce jour-là. Le poids est une mesure sans dimension de la \"taille\" d'un bloc"
   ]
  },
  {
   "cell_type": "code",
   "execution_count": 104,
   "id": "946db013",
   "metadata": {},
   "outputs": [
    {
     "data": {
      "text/plain": [
       "count    4.832000e+03\n",
       "mean     1.902123e+06\n",
       "std      1.554660e+06\n",
       "min      8.600000e+02\n",
       "25%      1.306812e+05\n",
       "50%      1.908575e+06\n",
       "75%      3.451517e+06\n",
       "max      3.995803e+06\n",
       "Name: BlkWghtMean, dtype: float64"
      ]
     },
     "execution_count": 104,
     "metadata": {},
     "output_type": "execute_result"
    }
   ],
   "source": [
    "df['BlkWghtMean'].describe()"
   ]
  },
  {
   "cell_type": "code",
   "execution_count": 105,
   "id": "afc96c1f",
   "metadata": {},
   "outputs": [
    {
     "data": {
      "image/png": "[encoded data removed]",
      "text/plain": [
       "<Figure size 432x288 with 1 Axes>"
      ]
     },
     "metadata": {
      "needs_background": "light"
     },
     "output_type": "display_data"
    }
   ],
   "source": [
    "x = df['BlkWghtMean']  \n",
    "y = df['time']\n",
    "plt.plot(y, x)\n",
    "\n",
    "plt.show() "
   ]
  },
  {
   "cell_type": "code",
   "execution_count": null,
   "id": "acd31dd6",
   "metadata": {},
   "outputs": [],
   "source": [
    "Variable 41 Bloc, poids, total"
   ]
  },
  {
   "cell_type": "code",
   "execution_count": 106,
   "id": "dedf61a0",
   "metadata": {},
   "outputs": [
    {
     "data": {
      "text/plain": [
       "count    4.838000e+03\n",
       "mean     2.825089e+08\n",
       "std      2.294499e+08\n",
       "min      0.000000e+00\n",
       "25%      2.143022e+07\n",
       "50%      2.789595e+08\n",
       "75%      4.905262e+08\n",
       "max      7.584308e+08\n",
       "Name: BlkWghtTot, dtype: float64"
      ]
     },
     "execution_count": 106,
     "metadata": {},
     "output_type": "execute_result"
    }
   ],
   "source": [
    "df['BlkWghtTot'].describe()"
   ]
  },
  {
   "cell_type": "code",
   "execution_count": 107,
   "id": "c1535db0",
   "metadata": {},
   "outputs": [
    {
     "data": {
      "image/png": "[encoded data removed]",
      "text/plain": [
       "<Figure size 432x288 with 1 Axes>"
      ]
     },
     "metadata": {
      "needs_background": "light"
     },
     "output_type": "display_data"
    }
   ],
   "source": [
    "x = df['BlkWghtTot']\n",
    "y = df['time']\n",
    "plt.plot(y, x)\n",
    "\n",
    "plt.show() "
   ]
  },
  {
   "cell_type": "markdown",
   "id": "7676d30b",
   "metadata": {},
   "source": [
    "Le nombre de bloc, poids, total est tres fluctuent. On peut corréler son évolution avec le nombre d'adresse unique qui sont en actif et en circulation. Plus il y a d'adresse et plus le poids total est important "
   ]
  },
  {
   "cell_type": "markdown",
   "id": "886944e0",
   "metadata": {},
   "source": [
    "Variable 42\n",
    "Capitalisation, offre active, 1 an, USD\n",
    "Somme de la valeur en USD de toutes les unités natives actives au cours de l'année écoulée. Les unités natives qui ont effectué plus d'une transaction ne sont comptées qu'une seule fois.\n",
    "\n",
    "Contrairement à la capitalisation, réalisée, USD, cette mesure est valable pour la fraction de l'offre qui a bougé au cours des 12 mois précédents. L'intuition est de concevoir une mesure de l'importance économique de l'offre liquide et disponible sur le marché, comme en témoignent les unités qui ont récemment effectué des transactions en chaîne. Cette mesure peut être volatile lorsque de grandes tranches d'approvisionnement sortent de la fenêtre d'éligibilité ou que de grandes sections se déplacent pour la première fois depuis plus d'un an."
   ]
  },
  {
   "cell_type": "code",
   "execution_count": 108,
   "id": "b8781377",
   "metadata": {},
   "outputs": [
    {
     "data": {
      "text/plain": [
       "count    4.277000e+03\n",
       "mean     6.253897e+10\n",
       "std      1.189446e+11\n",
       "min      5.394211e+04\n",
       "25%      6.978685e+08\n",
       "50%      4.542914e+09\n",
       "75%      6.659830e+10\n",
       "max      5.808754e+11\n",
       "Name: CapAct1yrUSD, dtype: float64"
      ]
     },
     "execution_count": 108,
     "metadata": {},
     "output_type": "execute_result"
    }
   ],
   "source": [
    "df['CapAct1yrUSD'].describe()"
   ]
  },
  {
   "cell_type": "code",
   "execution_count": 109,
   "id": "ca319af4",
   "metadata": {},
   "outputs": [
    {
     "data": {
      "image/png": "[encoded data removed]",
      "text/plain": [
       "<Figure size 432x288 with 1 Axes>"
      ]
     },
     "metadata": {
      "needs_background": "light"
     },
     "output_type": "display_data"
    }
   ],
   "source": [
    "x = df['CapAct1yrUSD']\n",
    "y = df['time']\n",
    "plt.plot(y, x)\n",
    "\n",
    "plt.show() "
   ]
  },
  {
   "cell_type": "markdown",
   "id": "2d84a283",
   "metadata": {},
   "source": [
    "On voit que les mouvements d'USD au cours d'une année suivent les même évolutions et fluctuations que celles du nombre d'adresses de bitcoin de 10 , 100,1000, 10000 dollar ...  "
   ]
  },
  {
   "cell_type": "markdown",
   "id": "e4826062",
   "metadata": {},
   "source": [
    "Variable 44\n",
    "Capitalisation, MVRV, offre actuelle\n",
    "Cela vous donne un ratio indiquant potentiellement des périodes de surévaluation (lorsque la valeur du réseau dépasse de loin sa relation historique avec le plafond réalisé) et de sous-évaluation. Le plafond réalisé est un fondamental puissant car il peut être compris comme la base de coût moyen pour les détenteurs à un moment donné, de sorte que le rapport des deux indique si les détenteurs sont sous l'eau ou non, donnant un aperçu du sentiment global."
   ]
  },
  {
   "cell_type": "code",
   "execution_count": 112,
   "id": "f0264583",
   "metadata": {},
   "outputs": [
    {
     "data": {
      "text/plain": [
       "count    4277.000000\n",
       "mean        2.074863\n",
       "std         2.848478\n",
       "min         0.386829\n",
       "25%         1.291285\n",
       "50%         1.740663\n",
       "75%         2.379827\n",
       "max       146.038332\n",
       "Name: CapMVRVCur, dtype: float64"
      ]
     },
     "execution_count": 112,
     "metadata": {},
     "output_type": "execute_result"
    }
   ],
   "source": [
    "df['CapMVRVCur'].describe()"
   ]
  },
  {
   "cell_type": "code",
   "execution_count": 113,
   "id": "60accf00",
   "metadata": {},
   "outputs": [
    {
     "data": {
      "image/png": "[encoded data removed]",
      "text/plain": [
       "<Figure size 432x288 with 1 Axes>"
      ]
     },
     "metadata": {
      "needs_background": "light"
     },
     "output_type": "display_data"
    }
   ],
   "source": [
    "x = df['CapMVRVCur']\n",
    "y = df['time']\n",
    "plt.plot(y, x)\n",
    "\n",
    "plt.show() "
   ]
  },
  {
   "cell_type": "code",
   "execution_count": null,
   "id": "1688a37d",
   "metadata": {},
   "outputs": [],
   "source": [
    "Variable 45\n",
    "404\n",
    "Internet s'arrête ici."
   ]
  },
  {
   "cell_type": "code",
   "execution_count": 114,
   "id": "a91ddb98",
   "metadata": {},
   "outputs": [
    {
     "data": {
      "text/plain": [
       "count    4277.000000\n",
       "mean        1.861260\n",
       "std         2.855148\n",
       "min         0.386828\n",
       "25%         1.085171\n",
       "50%         1.457329\n",
       "75%         2.074332\n",
       "max       146.038332\n",
       "Name: CapMVRVFF, dtype: float64"
      ]
     },
     "execution_count": 114,
     "metadata": {},
     "output_type": "execute_result"
    }
   ],
   "source": [
    "df['CapMVRVFF'].describe()"
   ]
  },
  {
   "cell_type": "code",
   "execution_count": 115,
   "id": "af3b1182",
   "metadata": {},
   "outputs": [
    {
     "data": {
      "image/png": "[encoded data removed]",
      "text/plain": [
       "<Figure size 432x288 with 1 Axes>"
      ]
     },
     "metadata": {
      "needs_background": "light"
     },
     "output_type": "display_data"
    }
   ],
   "source": [
    "x = df['CapMVRVFF']\n",
    "y = df['time']\n",
    "plt.plot(y, x)\n",
    "\n",
    "plt.show() "
   ]
  },
  {
   "cell_type": "code",
   "execution_count": null,
   "id": "e11b36e8",
   "metadata": {},
   "outputs": [],
   "source": [
    "Variable 46  ******\n",
    "Capitalisation, marché, offre actuelle, USD\n",
    "La valeur totale en USD de l'offre actuelle. Aussi appelée valeur de réseau ou capitalisation boursière."
   ]
  },
  {
   "cell_type": "code",
   "execution_count": 116,
   "id": "cfa594f9",
   "metadata": {},
   "outputs": [
    {
     "data": {
      "text/plain": [
       "count    4.277000e+03\n",
       "mean     1.400624e+11\n",
       "std      2.689685e+11\n",
       "min      1.776705e+05\n",
       "25%      1.203328e+09\n",
       "50%      9.577030e+09\n",
       "75%      1.440373e+11\n",
       "max      1.274350e+12\n",
       "Name: CapMrktCurUSD, dtype: float64"
      ]
     },
     "execution_count": 116,
     "metadata": {},
     "output_type": "execute_result"
    }
   ],
   "source": [
    "df['CapMrktCurUSD'].describe()"
   ]
  },
  {
   "cell_type": "code",
   "execution_count": 117,
   "id": "99214f86",
   "metadata": {},
   "outputs": [
    {
     "data": {
      "image/png": "[encoded data removed]",
      "text/plain": [
       "<Figure size 432x288 with 1 Axes>"
      ]
     },
     "metadata": {
      "needs_background": "light"
     },
     "output_type": "display_data"
    }
   ],
   "source": [
    "x = df['CapMrktCurUSD']\n",
    "y = df['time']\n",
    "plt.plot(y, x)\n",
    "\n",
    "plt.show() "
   ]
  },
  {
   "cell_type": "markdown",
   "id": "a06b9d95",
   "metadata": {},
   "source": [
    "L'évolution du prix de la capitalisation, marché, offre actuelle, USD. Il est intéressant de remarquer que le cours du bitcoin a completement exploser a partir de 2017. Ensuite les évolutions de son cours peuvent être corellé a nos autres variables. C'est cependant ce cours qui expliquent la grande ressemblance dans les courbes des autres variables.\n",
    "A partir de 2017 énorme explosion du cours puis pick tres dur. En 2021 Grande augmentation de l'ordre de 1200 % puis baisse de 50 % avant de dépasser a nouveau son pick pour redescendre. On voir alors que le cours du bitcoin actuel est tres fluctuent.\n",
    "Sa valeur passe du simple ou double en seulement 1 ou 2 mois avant de redescendre a nouveau aussi vite qu'il était monté."
   ]
  },
  {
   "cell_type": "markdown",
   "id": "8cf98023",
   "metadata": {},
   "source": [
    "Variable 47\n",
    "La valeur totale en USD de l'offre flottante. Également appelée valeur de réseau du flottant ou capitalisation boursière du flottant."
   ]
  },
  {
   "cell_type": "code",
   "execution_count": 118,
   "id": "18b829b3",
   "metadata": {},
   "outputs": [
    {
     "data": {
      "text/plain": [
       "count    4.277000e+03\n",
       "mean     1.097996e+11\n",
       "std      2.082481e+11\n",
       "min      1.776705e+05\n",
       "25%      1.203046e+09\n",
       "50%      8.149967e+09\n",
       "75%      1.152794e+11\n",
       "max      9.816991e+11\n",
       "Name: CapMrktFFUSD, dtype: float64"
      ]
     },
     "execution_count": 118,
     "metadata": {},
     "output_type": "execute_result"
    }
   ],
   "source": [
    "df['CapMrktFFUSD'].describe()"
   ]
  },
  {
   "cell_type": "code",
   "execution_count": 119,
   "id": "e34822a8",
   "metadata": {},
   "outputs": [
    {
     "data": {
      "image/png": "[encoded data removed]",
      "text/plain": [
       "<Figure size 432x288 with 1 Axes>"
      ]
     },
     "metadata": {
      "needs_background": "light"
     },
     "output_type": "display_data"
    }
   ],
   "source": [
    "x = df['CapMrktFFUSD']\n",
    "y = df['time']\n",
    "plt.plot(y, x)\n",
    "\n",
    "plt.show() "
   ]
  },
  {
   "cell_type": "markdown",
   "id": "1429f125",
   "metadata": {},
   "source": [
    "Variable 48\n",
    "Capitalisation, réalisée, USD\n",
    "\n",
    "La somme de la valeur en USD basée sur le cours de clôture en USD le jour où une unité native s'est déplacée pour la dernière fois (c'est-à-dire la dernière transaction) pour toutes les unités natives.\n",
    "\n",
    "La capitalisation réalisée est l'une des mesures phares de Coin Metrics, présentée pour la première fois dans une conférence de Nic Carteren 2018. Le plafond réalisé regroupe les unités d'approvisionnement en fonction de leur prix de marché lors de leur dernier passage en chaîne. L'intention initiale était de réduire le poids des pièces perdues depuis longtemps, en particulier en Bitcoin, car une fraction importante de l'offre est inerte et n'a pas bougé depuis 2010 (et peut être présumée perdue). De plus, le plafond réalisé est une mesure plus fidèle de l'importance économique des fourchettes à adoption limitée, car les mesures conventionnelles telles que la capitalisation boursière (voir Capitalisation, marché, offre actuelle, USD) supposent naïvement que l'ensemble du stock de pièces est liquide et disponible sur le marché. Les interprétations varient, mais le plafond réalisé est peut-être mieux compris comme une mesure qui capture la base de coût moyen de tous les détenteurs actuels. Il a été utilisé pour concevoir des oscillateurs populaires et des métriques dérivées."
   ]
  },
  {
   "cell_type": "code",
   "execution_count": 120,
   "id": "70502d43",
   "metadata": {},
   "outputs": [
    {
     "data": {
      "text/plain": [
       "count    4.838000e+03\n",
       "mean     6.070881e+10\n",
       "std      1.131814e+11\n",
       "min      0.000000e+00\n",
       "25%      4.649554e+07\n",
       "50%      4.545830e+09\n",
       "75%      8.795577e+10\n",
       "max      4.673803e+11\n",
       "Name: CapRealUSD, dtype: float64"
      ]
     },
     "execution_count": 120,
     "metadata": {},
     "output_type": "execute_result"
    }
   ],
   "source": [
    "df['CapRealUSD'].describe()"
   ]
  },
  {
   "cell_type": "code",
   "execution_count": 121,
   "id": "de5f11e9",
   "metadata": {},
   "outputs": [
    {
     "data": {
      "image/png": "[encoded data removed]",
      "text/plain": [
       "<Figure size 432x288 with 1 Axes>"
      ]
     },
     "metadata": {
      "needs_background": "light"
     },
     "output_type": "display_data"
    }
   ],
   "source": [
    "x = df['CapRealUSD']\n",
    "y = df['time']\n",
    "plt.plot(y, x)\n",
    "\n",
    "plt.show() "
   ]
  },
  {
   "cell_type": "markdown",
   "id": "28253ac5",
   "metadata": {},
   "source": [
    "Variable 53\n",
    "Difficulté, dernier\n",
    "La difficulté du dernier bloc dans la période considérée. La difficulté représente la difficulté de trouver un hachage qui répond à l'exigence désignée par le protocole (c'est-à-dire la difficulté de trouver un nouveau bloc) ce jour-là"
   ]
  },
  {
   "cell_type": "code",
   "execution_count": 131,
   "id": "75e624a7",
   "metadata": {},
   "outputs": [
    {
     "data": {
      "text/plain": [
       "count    4.832000e+03\n",
       "mean     4.441479e+12\n",
       "std      7.469341e+12\n",
       "min      1.000000e+00\n",
       "25%      1.733208e+06\n",
       "50%      5.347824e+10\n",
       "75%      6.353031e+12\n",
       "max      2.858716e+13\n",
       "Name: DiffLast, dtype: float64"
      ]
     },
     "execution_count": 131,
     "metadata": {},
     "output_type": "execute_result"
    }
   ],
   "source": [
    "df['DiffLast'].describe()"
   ]
  },
  {
   "cell_type": "code",
   "execution_count": 132,
   "id": "d3b1daea",
   "metadata": {},
   "outputs": [
    {
     "data": {
      "image/png": "[encoded data removed]",
      "text/plain": [
       "<Figure size 432x288 with 1 Axes>"
      ]
     },
     "metadata": {
      "needs_background": "light"
     },
     "output_type": "display_data"
    }
   ],
   "source": [
    "x = df['DiffLast']\n",
    "y = df['time']\n",
    "plt.plot(y, x)\n",
    "\n",
    "plt.show() "
   ]
  },
  {
   "cell_type": "markdown",
   "id": "5ed64bea",
   "metadata": {},
   "source": [
    "Variable 54\n",
    "Difficulté, moyenne\n",
    "La difficulté moyenne de trouver un hachage qui répond à l'exigence désignée par le protocole (c'est-à-dire la difficulté de trouver un nouveau bloc) ce jour-là."
   ]
  },
  {
   "cell_type": "code",
   "execution_count": 133,
   "id": "ced233d1",
   "metadata": {},
   "outputs": [
    {
     "data": {
      "text/plain": [
       "count    4.832000e+03\n",
       "mean     4.438285e+12\n",
       "std      7.464752e+12\n",
       "min      1.000000e+00\n",
       "25%      1.733208e+06\n",
       "50%      5.347824e+10\n",
       "75%      6.353031e+12\n",
       "max      2.858716e+13\n",
       "Name: DiffMean, dtype: float64"
      ]
     },
     "execution_count": 133,
     "metadata": {},
     "output_type": "execute_result"
    }
   ],
   "source": [
    "df['DiffMean'].describe()"
   ]
  },
  {
   "cell_type": "code",
   "execution_count": 134,
   "id": "f3c1522b",
   "metadata": {},
   "outputs": [
    {
     "data": {
      "image/png": "[encoded data removed]",
      "text/plain": [
       "<Figure size 432x288 with 1 Axes>"
      ]
     },
     "metadata": {
      "needs_background": "light"
     },
     "output_type": "display_data"
    }
   ],
   "source": [
    "x = df['DiffMean']\n",
    "y = df['time']\n",
    "plt.plot(y, x)\n",
    "\n",
    "plt.show() "
   ]
  },
  {
   "cell_type": "markdown",
   "id": "d190e9f8",
   "metadata": {},
   "source": [
    "Cette variable calcule la difficulté qu'il y a pour trouvé un bloc. On voit que cette difficulté est en constante augmentation du au nombre de plus en plus important de bloc sur la chaîne ainsi que de l'augmentation de la difficulté de trouver le code de chaque block pour faire avancer le compte. Les mineurs ont donc besoin d'être toujours plus nombreux et les puissances de calcul de plus en plus importante si la blockchain veut continuer de croître"
   ]
  },
  {
   "cell_type": "code",
   "execution_count": null,
   "id": "2614fb03",
   "metadata": {},
   "outputs": [],
   "source": [
    "Variable 55\n",
    "Frais, octet, moyenne, unités natives\n",
    "Les frais de transaction moyens par octet de tous les blocs qui s'intervalle dans les unités natives."
   ]
  },
  {
   "cell_type": "code",
   "execution_count": 135,
   "id": "ffe6e5b4",
   "metadata": {},
   "outputs": [
    {
     "data": {
      "text/plain": [
       "count    4.832000e+03\n",
       "mean     9.587728e-07\n",
       "std      2.545088e-06\n",
       "min      0.000000e+00\n",
       "25%      1.700000e-07\n",
       "50%      3.700000e-07\n",
       "75%      1.260000e-06\n",
       "max      8.440000e-05\n",
       "Name: FeeByteMeanNtv, dtype: float64"
      ]
     },
     "execution_count": 135,
     "metadata": {},
     "output_type": "execute_result"
    }
   ],
   "source": [
    "df['FeeByteMeanNtv'].describe()"
   ]
  },
  {
   "cell_type": "code",
   "execution_count": 136,
   "id": "6f66b4b4",
   "metadata": {},
   "outputs": [
    {
     "data": {
      "image/png": "[encoded data removed]",
      "text/plain": [
       "<Figure size 432x288 with 1 Axes>"
      ]
     },
     "metadata": {
      "needs_background": "light"
     },
     "output_type": "display_data"
    }
   ],
   "source": [
    "x = df['FeeByteMeanNtv']\n",
    "y = df['time']\n",
    "plt.plot(y, x)\n",
    "\n",
    "plt.show() "
   ]
  },
  {
   "cell_type": "markdown",
   "id": "dc003eb0",
   "metadata": {},
   "source": [
    "On peut voir que \"Les frais de transaction moyens par octet de tous les blocs qui s'intervalle dans les unités natives\" se sont contenu au fur et a mesure du temps et sont désormais stabilisé depuis début 2018 entre 10. et 0.5 *10^-5 octet"
   ]
  },
  {
   "cell_type": "markdown",
   "id": "30c54a87",
   "metadata": {},
   "source": [
    "Variable 56 FeeMeanNtv\n",
    "Frais, pondération, moyenne, unités natives\n",
    "Frais de transaction moyens par unité de poids dans cet intervalle en unités natives. Le poids est une mesure sans dimension de la \"taille\" d'un bloc."
   ]
  },
  {
   "cell_type": "code",
   "execution_count": 139,
   "id": "b6e5352d",
   "metadata": {},
   "outputs": [
    {
     "data": {
      "text/plain": [
       "count    4580.000000\n",
       "mean        0.000843\n",
       "std         0.007342\n",
       "min         0.000000\n",
       "25%         0.000112\n",
       "50%         0.000221\n",
       "75%         0.000624\n",
       "max         0.220000\n",
       "Name: FeeMeanNtv, dtype: float64"
      ]
     },
     "execution_count": 139,
     "metadata": {},
     "output_type": "execute_result"
    }
   ],
   "source": [
    "df['FeeMeanNtv'].describe()"
   ]
  },
  {
   "cell_type": "code",
   "execution_count": 138,
   "id": "49513b6b",
   "metadata": {},
   "outputs": [
    {
     "data": {
      "image/png": "[encoded data removed]",
      "text/plain": [
       "<Figure size 432x288 with 1 Axes>"
      ]
     },
     "metadata": {
      "needs_background": "light"
     },
     "output_type": "display_data"
    }
   ],
   "source": [
    "x = df['FeeMeanNtv']\n",
    "y = df['time']\n",
    "plt.plot(y, x)\n",
    "\n",
    "plt.show() "
   ]
  },
  {
   "cell_type": "markdown",
   "id": "7527e125",
   "metadata": {},
   "source": [
    "Tout comme le poids en octet on voit ici que \"Frais de transaction moyens par unité de poids dans cet intervalle en unités natives\" sont stabilisé entre 0.01 et 0.02 depuis 2012"
   ]
  },
  {
   "cell_type": "code",
   "execution_count": null,
   "id": "fb8e27b2",
   "metadata": {},
   "outputs": [],
   "source": [
    "Variable 57\n",
    "404\n",
    "Internet s'arrête ici."
   ]
  },
  {
   "cell_type": "code",
   "execution_count": 140,
   "id": "cf01120e",
   "metadata": {},
   "outputs": [
    {
     "data": {
      "text/plain": [
       "count    4277.000000\n",
       "mean        1.940172\n",
       "std         5.224787\n",
       "min         0.000000\n",
       "25%         0.038694\n",
       "50%         0.173923\n",
       "75%         1.507388\n",
       "max        60.949968\n",
       "Name: FeeMeanUSD, dtype: float64"
      ]
     },
     "execution_count": 140,
     "metadata": {},
     "output_type": "execute_result"
    }
   ],
   "source": [
    "df['FeeMeanUSD'].describe()"
   ]
  },
  {
   "cell_type": "code",
   "execution_count": 141,
   "id": "1b2626ec",
   "metadata": {},
   "outputs": [
    {
     "data": {
      "image/png": "[encoded data removed]",
      "text/plain": [
       "<Figure size 432x288 with 1 Axes>"
      ]
     },
     "metadata": {
      "needs_background": "light"
     },
     "output_type": "display_data"
    }
   ],
   "source": [
    "x = df['FeeMeanUSD']\n",
    "y = df['time']\n",
    "plt.plot(y, x)\n",
    "\n",
    "plt.show() "
   ]
  },
  {
   "cell_type": "code",
   "execution_count": null,
   "id": "3dcbc542",
   "metadata": {},
   "outputs": [],
   "source": [
    "Variable 58 FeeMedNtv\n",
    "Frais, transaction, médiane, unités natives\n",
    "Frais médians par transaction en unités natives ce jour-là."
   ]
  },
  {
   "cell_type": "code",
   "execution_count": 142,
   "id": "b6c16372",
   "metadata": {},
   "outputs": [
    {
     "data": {
      "text/plain": [
       "count    4580.000000\n",
       "mean        0.000380\n",
       "std         0.005540\n",
       "min         0.000000\n",
       "25%         0.000013\n",
       "50%         0.000100\n",
       "75%         0.000200\n",
       "max         0.220000\n",
       "Name: FeeMedNtv, dtype: float64"
      ]
     },
     "execution_count": 142,
     "metadata": {},
     "output_type": "execute_result"
    }
   ],
   "source": [
    "df['FeeMedNtv'].describe()"
   ]
  },
  {
   "cell_type": "code",
   "execution_count": 143,
   "id": "a0559cd9",
   "metadata": {},
   "outputs": [
    {
     "data": {
      "image/png": "[encoded data removed]",
      "text/plain": [
       "<Figure size 432x288 with 1 Axes>"
      ]
     },
     "metadata": {
      "needs_background": "light"
     },
     "output_type": "display_data"
    }
   ],
   "source": [
    "x = df['FeeMedNtv']\n",
    "y = df['time']\n",
    "plt.plot(y, x)\n",
    "\n",
    "plt.show() "
   ]
  },
  {
   "cell_type": "markdown",
   "id": "03e11e78",
   "metadata": {},
   "source": [
    "Tout comme le poids en octet on voit ici que \"Frais médians par transaction en unités natives ce jour-là\" sont stabilisé entre 0.01 et 0.02 depuis 2010"
   ]
  },
  {
   "cell_type": "code",
   "execution_count": null,
   "id": "b123efc0",
   "metadata": {},
   "outputs": [],
   "source": [
    "Variable 59 FeeMedUSD\n",
    "Frais, transaction, médiane, USD\n",
    "La valeur en USD des frais médians par transaction ce jour-là."
   ]
  },
  {
   "cell_type": "code",
   "execution_count": 144,
   "id": "66af26dd",
   "metadata": {},
   "outputs": [
    {
     "data": {
      "text/plain": [
       "count    4277.000000\n",
       "mean        0.948764\n",
       "std         2.736901\n",
       "min         0.000000\n",
       "25%         0.023459\n",
       "50%         0.075240\n",
       "75%         0.524577\n",
       "max        33.698539\n",
       "Name: FeeMedUSD, dtype: float64"
      ]
     },
     "execution_count": 144,
     "metadata": {},
     "output_type": "execute_result"
    }
   ],
   "source": [
    "df['FeeMedUSD'].describe()"
   ]
  },
  {
   "cell_type": "code",
   "execution_count": 145,
   "id": "c811e2a1",
   "metadata": {},
   "outputs": [
    {
     "data": {
      "image/png": "[encoded data removed]",
      "text/plain": [
       "<Figure size 432x288 with 1 Axes>"
      ]
     },
     "metadata": {
      "needs_background": "light"
     },
     "output_type": "display_data"
    }
   ],
   "source": [
    "x = df['FeeMedUSD']\n",
    "y = df['time']\n",
    "plt.plot(y, x)\n",
    "\n",
    "plt.show() "
   ]
  },
  {
   "cell_type": "markdown",
   "id": "a16916cc",
   "metadata": {},
   "source": [
    "On peut observer que si le cours du bitcoin diminue fortement alors le coût de \"La valeur en USD des frais médians par transaction ce jour-là\" explose également."
   ]
  },
  {
   "cell_type": "markdown",
   "id": "ee3c4fc2",
   "metadata": {},
   "source": [
    "Variable 61 FeeTotNtv\n",
    "Frais, total, unités natives\n",
    "La somme de tous les frais payés aux mineurs, aux validateurs de transactions, aux jalonneurs et/ou aux producteurs de blocs ce jour-là.\n",
    "\n",
    "Les frais en USD (voir Frais, Transaction, Médiane, USD ; Frais, Transaction, Moyenne, USD et Frais, Total, USD) sont souvent biaisés par la volatilité du prix unitaire, ce qui rend difficile la détermination des tendances de la pression sur les frais. L'évaluation des frais en termes d'unités natives élimine le bruit de la volatilité des taux de change et permet des comparaisons de séries chronologiques plus cohérentes."
   ]
  },
  {
   "cell_type": "code",
   "execution_count": 148,
   "id": "8d10eeed",
   "metadata": {},
   "outputs": [
    {
     "data": {
      "text/plain": [
       "count    4838.000000\n",
       "mean       52.765340\n",
       "std        96.537029\n",
       "min         0.000000\n",
       "25%        10.086637\n",
       "50%        22.090669\n",
       "75%        51.923387\n",
       "max      1495.748916\n",
       "Name: FeeTotNtv, dtype: float64"
      ]
     },
     "execution_count": 148,
     "metadata": {},
     "output_type": "execute_result"
    }
   ],
   "source": [
    "df['FeeTotNtv'].describe()"
   ]
  },
  {
   "cell_type": "code",
   "execution_count": 149,
   "id": "eb17227f",
   "metadata": {},
   "outputs": [
    {
     "data": {
      "image/png": "[encoded data removed]",
      "text/plain": [
       "<Figure size 432x288 with 1 Axes>"
      ]
     },
     "metadata": {
      "needs_background": "light"
     },
     "output_type": "display_data"
    }
   ],
   "source": [
    "x = df['FeeTotNtv']\n",
    "y = df['time']\n",
    "plt.plot(y, x)\n",
    "\n",
    "plt.show() "
   ]
  },
  {
   "cell_type": "markdown",
   "id": "1db40dc9",
   "metadata": {},
   "source": []
  },
  {
   "cell_type": "code",
   "execution_count": null,
   "id": "f3aafcf8",
   "metadata": {},
   "outputs": [],
   "source": [
    "Variable 62\n",
    "404\n",
    "Internet s'arrête ici."
   ]
  },
  {
   "cell_type": "code",
   "execution_count": 150,
   "id": "13d5adf9",
   "metadata": {},
   "outputs": [
    {
     "data": {
      "text/plain": [
       "count    4.277000e+03\n",
       "mean     5.617723e+05\n",
       "std      1.592422e+06\n",
       "min      0.000000e+00\n",
       "25%      3.206725e+03\n",
       "50%      2.821997e+04\n",
       "75%      3.981835e+05\n",
       "max      2.139776e+07\n",
       "Name: FeeTotUSD, dtype: float64"
      ]
     },
     "execution_count": 150,
     "metadata": {},
     "output_type": "execute_result"
    }
   ],
   "source": [
    "df['FeeTotUSD'].describe()"
   ]
  },
  {
   "cell_type": "code",
   "execution_count": 151,
   "id": "48632f9f",
   "metadata": {},
   "outputs": [
    {
     "data": {
      "image/png": "[encoded data removed]",
      "text/plain": [
       "<Figure size 432x288 with 1 Axes>"
      ]
     },
     "metadata": {
      "needs_background": "light"
     },
     "output_type": "display_data"
    }
   ],
   "source": [
    "x = df['FeeTotUSD']\n",
    "y = df['time']\n",
    "plt.plot(y, x)\n",
    "\n",
    "plt.show() "
   ]
  }
 ],
 "metadata": {
  "kernelspec": {
   "display_name": "Python 3 (ipykernel)",
   "language": "python",
   "name": "python3"
  },
  "language_info": {
   "codemirror_mode": {
    "name": "ipython",
    "version": 3
   },
   "file_extension": ".py",
   "mimetype": "text/x-python",
   "name": "python",
   "nbconvert_exporter": "python",
   "pygments_lexer": "ipython3",
   "version": "3.9.7"
  }
 },
 "nbformat": 4,
 "nbformat_minor": 5
}
